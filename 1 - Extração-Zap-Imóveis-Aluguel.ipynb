{
 "cells": [
  {
   "cell_type": "code",
   "execution_count": 1,
   "metadata": {},
   "outputs": [],
   "source": [
    "import re\n",
    "import json\n",
    "import numpy as np \n",
    "import pandas as pd\n",
    "from loguru import logger\n",
    "from modules import _get_driver_webscraping, _get_headers_webscraping, _number_of_pages, _get_html_with_many_cards, _read_results_parquet, _apply_functions_in_parallel_to_webscraping, _read_json_file, _extract_data_in_html_for_page_with_many_cards, _get_html_especifc_for_wich_property, _transform_data_to_dataframe"
   ]
  },
  {
   "cell_type": "code",
   "execution_count": 2,
   "metadata": {},
   "outputs": [],
   "source": [
    "base_url = 'https://www.zapimoveis.com.br'\n",
    "transaction = \"aluguel\"\n",
    "type = \"imoveis\"\n",
    "local = \"rj+rio-de-janeiro\""
   ]
  },
  {
   "cell_type": "code",
   "execution_count": 3,
   "metadata": {},
   "outputs": [
    {
     "name": "stdout",
     "output_type": "stream",
     "text": [
      "{\n",
      "    \"Parametros\": {\n",
      "        \"Transacao\": \"aluguel\",\n",
      "        \"Tipo\": \"imoveis\",\n",
      "        \"Local\": \"rj+rio-de-janeiro\"\n",
      "    },\n",
      "    \"Requisicao\": {\n",
      "        \"Status\": true\n",
      "    },\n",
      "    \"Imoveis\": 26981,\n",
      "    \"Paginas\": 269\n",
      "}\n"
     ]
    }
   ],
   "source": [
    "# number_of_pages = _number_of_pages(base_url, transaction, type, local)\n",
    "# print(number_of_pages)\n",
    "\n",
    "number_of_pages = {'Parametros': {'Transacao': 'aluguel', 'Tipo': 'imoveis', 'Local': 'rj+rio-de-janeiro'}, 'Requisicao': {'Status': True}, 'Imoveis': 26981, 'Paginas': 269}\n",
    "number_of_pages = json.dumps(number_of_pages, indent=4)\n",
    "print(number_of_pages)\n"
   ]
  },
  {
   "cell_type": "code",
   "execution_count": 1,
   "metadata": {},
   "outputs": [],
   "source": [
    "# list_use_in_function = list(range(1, 269))\n",
    "# function_to_apply = _get_html_with_many_cards\n",
    "# name_file = 'urls_imoveis_aluguel'\n",
    "# workers = 3\n",
    "# args = [base_url, transaction, type, local]\n",
    "\n",
    "# info_pages, erro_pages = _apply_functions_in_parallel_to_webscraping(list_use_in_function=list_use_in_function, function_to_apply=function_to_apply, name_file=name_file, key_name=\"url\", workers=workers, args=args)\n",
    "# info_pages, erro_pages"
   ]
  },
  {
   "cell_type": "code",
   "execution_count": 3,
   "metadata": {},
   "outputs": [
    {
     "name": "stderr",
     "output_type": "stream",
     "text": [
      "\u001b[32m2024-11-13 07:39:48.401\u001b[0m | \u001b[32m\u001b[1mSUCCESS \u001b[0m | \u001b[36m__main__\u001b[0m:\u001b[36m<module>\u001b[0m:\u001b[36m2\u001b[0m - \u001b[32m\u001b[1mInformações dos Imóveis Processadas: 268\u001b[0m\n"
     ]
    }
   ],
   "source": [
    "lista_informacoes_imoveis, erros_imoveis = _read_results_parquet(key_name=\"url\", name_file=\"urls_imoveis_aluguel\")\n",
    "logger.success(f\"Informações dos Imóveis Processadas: {len(lista_informacoes_imoveis)}\")"
   ]
  },
  {
   "cell_type": "code",
   "execution_count": 4,
   "metadata": {},
   "outputs": [
    {
     "name": "stdout",
     "output_type": "stream",
     "text": [
      "(10064, 9)\n"
     ]
    },
    {
     "data": {
      "text/html": [
       "<div>\n",
       "<style scoped>\n",
       "    .dataframe tbody tr th:only-of-type {\n",
       "        vertical-align: middle;\n",
       "    }\n",
       "\n",
       "    .dataframe tbody tr th {\n",
       "        vertical-align: top;\n",
       "    }\n",
       "\n",
       "    .dataframe thead th {\n",
       "        text-align: right;\n",
       "    }\n",
       "</style>\n",
       "<table border=\"1\" class=\"dataframe\">\n",
       "  <thead>\n",
       "    <tr style=\"text-align: right;\">\n",
       "      <th></th>\n",
       "      <th>pagina</th>\n",
       "      <th>anuncio_pagina</th>\n",
       "      <th>id_imovel</th>\n",
       "      <th>url_imovel</th>\n",
       "      <th>destaque</th>\n",
       "      <th>bairro</th>\n",
       "      <th>endereco</th>\n",
       "      <th>descricao</th>\n",
       "      <th>data_completa</th>\n",
       "    </tr>\n",
       "  </thead>\n",
       "  <tbody>\n",
       "    <tr>\n",
       "      <th>0</th>\n",
       "      <td>0</td>\n",
       "      <td>0</td>\n",
       "      <td>2741566013</td>\n",
       "      <td>https://www.zapimoveis.com.br/imovel/aluguel-c...</td>\n",
       "      <td>Super Destaque</td>\n",
       "      <td>Laranjeiras, Rio de Janeiro</td>\n",
       "      <td>Rua Alice</td>\n",
       "      <td>Aliança Viva aluga: Casa na Rua Alice, em Lara...</td>\n",
       "      <td>2024-11-13</td>\n",
       "    </tr>\n",
       "    <tr>\n",
       "      <th>1</th>\n",
       "      <td>0</td>\n",
       "      <td>1</td>\n",
       "      <td>2729441818</td>\n",
       "      <td>https://www.zapimoveis.com.br/imovel/aluguel-l...</td>\n",
       "      <td>Super Destaque</td>\n",
       "      <td>Barra da Tijuca, Rio de Janeiro</td>\n",
       "      <td>Avenida das Américas</td>\n",
       "      <td>Ótima oportunidade para quem busca um espaço c...</td>\n",
       "      <td>2024-11-13</td>\n",
       "    </tr>\n",
       "    <tr>\n",
       "      <th>2</th>\n",
       "      <td>0</td>\n",
       "      <td>2</td>\n",
       "      <td>2750169530</td>\n",
       "      <td>https://www.zapimoveis.com.br/imovel/aluguel-a...</td>\n",
       "      <td>Super Destaque</td>\n",
       "      <td>Lagoa, Rio de Janeiro</td>\n",
       "      <td>Avenida Epitácio Pessoa</td>\n",
       "      <td>(Código: 36354, Avenida Epitácio Pessoa) - Loc...</td>\n",
       "      <td>2024-11-13</td>\n",
       "    </tr>\n",
       "    <tr>\n",
       "      <th>3</th>\n",
       "      <td>0</td>\n",
       "      <td>3</td>\n",
       "      <td>2755807416</td>\n",
       "      <td>https://www.zapimoveis.com.br/imovel/aluguel-c...</td>\n",
       "      <td>Destaque</td>\n",
       "      <td>Copacabana, Rio de Janeiro</td>\n",
       "      <td>Rua Francisco Sá</td>\n",
       "      <td>Monte seu consultório/sala de pilates AQUI!\\n\\...</td>\n",
       "      <td>2024-11-13</td>\n",
       "    </tr>\n",
       "    <tr>\n",
       "      <th>5</th>\n",
       "      <td>0</td>\n",
       "      <td>5</td>\n",
       "      <td>2750819430</td>\n",
       "      <td>https://www.zapimoveis.com.br/imovel/venda-and...</td>\n",
       "      <td>NaN</td>\n",
       "      <td>Centro, Rio de Janeiro</td>\n",
       "      <td>Avenida Marechal Floriano</td>\n",
       "      <td>Centro, RJ. Conjunto comercial medindo aproxim...</td>\n",
       "      <td>2024-11-13</td>\n",
       "    </tr>\n",
       "  </tbody>\n",
       "</table>\n",
       "</div>"
      ],
      "text/plain": [
       "   pagina  anuncio_pagina   id_imovel  \\\n",
       "0       0               0  2741566013   \n",
       "1       0               1  2729441818   \n",
       "2       0               2  2750169530   \n",
       "3       0               3  2755807416   \n",
       "5       0               5  2750819430   \n",
       "\n",
       "                                          url_imovel        destaque  \\\n",
       "0  https://www.zapimoveis.com.br/imovel/aluguel-c...  Super Destaque   \n",
       "1  https://www.zapimoveis.com.br/imovel/aluguel-l...  Super Destaque   \n",
       "2  https://www.zapimoveis.com.br/imovel/aluguel-a...  Super Destaque   \n",
       "3  https://www.zapimoveis.com.br/imovel/aluguel-c...        Destaque   \n",
       "5  https://www.zapimoveis.com.br/imovel/venda-and...             NaN   \n",
       "\n",
       "                            bairro                   endereco  \\\n",
       "0      Laranjeiras, Rio de Janeiro                  Rua Alice   \n",
       "1  Barra da Tijuca, Rio de Janeiro       Avenida das Américas   \n",
       "2            Lagoa, Rio de Janeiro    Avenida Epitácio Pessoa   \n",
       "3       Copacabana, Rio de Janeiro           Rua Francisco Sá   \n",
       "5           Centro, Rio de Janeiro  Avenida Marechal Floriano   \n",
       "\n",
       "                                           descricao data_completa  \n",
       "0  Aliança Viva aluga: Casa na Rua Alice, em Lara...    2024-11-13  \n",
       "1  Ótima oportunidade para quem busca um espaço c...    2024-11-13  \n",
       "2  (Código: 36354, Avenida Epitácio Pessoa) - Loc...    2024-11-13  \n",
       "3  Monte seu consultório/sala de pilates AQUI!\\n\\...    2024-11-13  \n",
       "5  Centro, RJ. Conjunto comercial medindo aproxim...    2024-11-13  "
      ]
     },
     "execution_count": 4,
     "metadata": {},
     "output_type": "execute_result"
    }
   ],
   "source": [
    "dataframe_urls = _extract_data_in_html_for_page_with_many_cards(lista_informacoes_imoveis)\n",
    "dataframe_urls.head()\n",
    "dataframe_urls = dataframe_urls.dropna(subset=['url_imovel'])\n",
    "print(dataframe_urls.shape)\n",
    "dataframe_urls.head()"
   ]
  },
  {
   "cell_type": "code",
   "execution_count": 5,
   "metadata": {},
   "outputs": [
    {
     "name": "stderr",
     "output_type": "stream",
     "text": [
      "\u001b[32m2024-11-13 07:41:05.681\u001b[0m | \u001b[32m\u001b[1mSUCCESS \u001b[0m | \u001b[36m__main__\u001b[0m:\u001b[36m<module>\u001b[0m:\u001b[36m2\u001b[0m - \u001b[32m\u001b[1mURLs Processadas: 10064\u001b[0m\n"
     ]
    }
   ],
   "source": [
    "urls_de_imoveis = dataframe_urls['url_imovel'].to_list()\n",
    "logger.success(f\"URLs Processadas: {len(urls_de_imoveis)}\")"
   ]
  },
  {
   "cell_type": "code",
   "execution_count": 9,
   "metadata": {},
   "outputs": [],
   "source": [
    "#list_use_in_function = urls_de_imoveis\n",
    "#function_to_apply = _get_html_especifc_for_wich_property\n",
    "#name_file = 'caracteristicas_imoveis_aluguel'\n",
    "#workers = 3\n",
    "#args = []\n",
    "\n",
    "#info_pages, erro_pages = _apply_functions_in_parallel_to_webscraping(list_use_in_function=list_use_in_function, function_to_apply=function_to_apply, name_file=name_file, key_name=\"url\", workers=workers, args=args)"
   ]
  },
  {
   "cell_type": "code",
   "execution_count": 2,
   "metadata": {},
   "outputs": [
    {
     "name": "stderr",
     "output_type": "stream",
     "text": [
      "\u001b[32m2024-11-23 16:12:59.497\u001b[0m | \u001b[32m\u001b[1mSUCCESS \u001b[0m | \u001b[36m__main__\u001b[0m:\u001b[36m<module>\u001b[0m:\u001b[36m2\u001b[0m - \u001b[32m\u001b[1mInformações dos Imóveis Processadas: 8322\u001b[0m\n"
     ]
    }
   ],
   "source": [
    "lista_informacoes_imoveis_aluguel, erros_imoveis_aluguel = _read_results_parquet(key_name=\"url\", name_file=\"data/caracteristicas_imoveis_aluguel\")\n",
    "logger.success(f\"Informações dos Imóveis Processadas: {len(lista_informacoes_imoveis_aluguel)}\")"
   ]
  },
  {
   "cell_type": "code",
   "execution_count": 3,
   "metadata": {},
   "outputs": [
    {
     "name": "stdout",
     "output_type": "stream",
     "text": [
      "(8322, 19)\n"
     ]
    },
    {
     "data": {
      "text/html": [
       "<div>\n",
       "<style scoped>\n",
       "    .dataframe tbody tr th:only-of-type {\n",
       "        vertical-align: middle;\n",
       "    }\n",
       "\n",
       "    .dataframe tbody tr th {\n",
       "        vertical-align: top;\n",
       "    }\n",
       "\n",
       "    .dataframe thead th {\n",
       "        text-align: right;\n",
       "    }\n",
       "</style>\n",
       "<table border=\"1\" class=\"dataframe\">\n",
       "  <thead>\n",
       "    <tr style=\"text-align: right;\">\n",
       "      <th></th>\n",
       "      <th>url</th>\n",
       "      <th>endereco</th>\n",
       "      <th>preco</th>\n",
       "      <th>area</th>\n",
       "      <th>andar</th>\n",
       "      <th>quartos</th>\n",
       "      <th>suites</th>\n",
       "      <th>vagas_de_carro</th>\n",
       "      <th>valor_condominio</th>\n",
       "      <th>iptu</th>\n",
       "      <th>mobiliado</th>\n",
       "      <th>piscina</th>\n",
       "      <th>condominio</th>\n",
       "      <th>elevador</th>\n",
       "      <th>jardim</th>\n",
       "      <th>quadra_esportiva</th>\n",
       "      <th>academia</th>\n",
       "      <th>finalidade</th>\n",
       "      <th>tipo</th>\n",
       "    </tr>\n",
       "  </thead>\n",
       "  <tbody>\n",
       "    <tr>\n",
       "      <th>0</th>\n",
       "      <td>https://www.zapimoveis.com.br/imovel/aluguel-a...</td>\n",
       "      <td>Avenida Epitácio Pessoa, 4344 - Lagoa, Rio de ...</td>\n",
       "      <td>12500.0</td>\n",
       "      <td>137.0</td>\n",
       "      <td>NaN</td>\n",
       "      <td>3.0</td>\n",
       "      <td>1.0</td>\n",
       "      <td>2</td>\n",
       "      <td>1982.0</td>\n",
       "      <td>470.0</td>\n",
       "      <td>False</td>\n",
       "      <td>False</td>\n",
       "      <td>False</td>\n",
       "      <td>False</td>\n",
       "      <td>True</td>\n",
       "      <td>False</td>\n",
       "      <td>False</td>\n",
       "      <td>residencial</td>\n",
       "      <td>apartamento</td>\n",
       "    </tr>\n",
       "    <tr>\n",
       "      <th>1</th>\n",
       "      <td>https://www.zapimoveis.com.br/imovel/aluguel-c...</td>\n",
       "      <td>Rua Alice - Laranjeiras, Rio de Janeiro - RJ</td>\n",
       "      <td>20000.0</td>\n",
       "      <td>300.0</td>\n",
       "      <td>NaN</td>\n",
       "      <td>8.0</td>\n",
       "      <td>2.0</td>\n",
       "      <td>4</td>\n",
       "      <td>NaN</td>\n",
       "      <td>6558.0</td>\n",
       "      <td>False</td>\n",
       "      <td>False</td>\n",
       "      <td>False</td>\n",
       "      <td>False</td>\n",
       "      <td>False</td>\n",
       "      <td>False</td>\n",
       "      <td>False</td>\n",
       "      <td>residencial</td>\n",
       "      <td>casa</td>\n",
       "    </tr>\n",
       "    <tr>\n",
       "      <th>2</th>\n",
       "      <td>https://www.zapimoveis.com.br/imovel/aluguel-l...</td>\n",
       "      <td>Avenida das Américas, 5001 - Barra da Tijuca, ...</td>\n",
       "      <td>6000.0</td>\n",
       "      <td>70.0</td>\n",
       "      <td>1.0</td>\n",
       "      <td>NaN</td>\n",
       "      <td>NaN</td>\n",
       "      <td>2</td>\n",
       "      <td>2940.0</td>\n",
       "      <td>20933.0</td>\n",
       "      <td>False</td>\n",
       "      <td>False</td>\n",
       "      <td>False</td>\n",
       "      <td>True</td>\n",
       "      <td>False</td>\n",
       "      <td>False</td>\n",
       "      <td>False</td>\n",
       "      <td>comercial</td>\n",
       "      <td>loja</td>\n",
       "    </tr>\n",
       "    <tr>\n",
       "      <th>3</th>\n",
       "      <td>https://www.zapimoveis.com.br/imovel/aluguel-c...</td>\n",
       "      <td>Rua Francisco Sá, 23 - Copacabana, Rio de Jane...</td>\n",
       "      <td>1350.0</td>\n",
       "      <td>35.0</td>\n",
       "      <td>9.0</td>\n",
       "      <td>NaN</td>\n",
       "      <td>NaN</td>\n",
       "      <td>1</td>\n",
       "      <td>1080.0</td>\n",
       "      <td>258.0</td>\n",
       "      <td>False</td>\n",
       "      <td>False</td>\n",
       "      <td>False</td>\n",
       "      <td>False</td>\n",
       "      <td>False</td>\n",
       "      <td>False</td>\n",
       "      <td>False</td>\n",
       "      <td>comercial</td>\n",
       "      <td>conjunto</td>\n",
       "    </tr>\n",
       "    <tr>\n",
       "      <th>4</th>\n",
       "      <td>https://www.zapimoveis.com.br/imovel/venda-and...</td>\n",
       "      <td>Avenida Marechal Floriano, 19 - Centro, Rio de...</td>\n",
       "      <td>8308000.0</td>\n",
       "      <td>1923.0</td>\n",
       "      <td>NaN</td>\n",
       "      <td>NaN</td>\n",
       "      <td>NaN</td>\n",
       "      <td>0</td>\n",
       "      <td>54700.0</td>\n",
       "      <td>10450.0</td>\n",
       "      <td>False</td>\n",
       "      <td>False</td>\n",
       "      <td>False</td>\n",
       "      <td>False</td>\n",
       "      <td>False</td>\n",
       "      <td>False</td>\n",
       "      <td>False</td>\n",
       "      <td>comercial</td>\n",
       "      <td>laje</td>\n",
       "    </tr>\n",
       "  </tbody>\n",
       "</table>\n",
       "</div>"
      ],
      "text/plain": [
       "                                                 url  \\\n",
       "0  https://www.zapimoveis.com.br/imovel/aluguel-a...   \n",
       "1  https://www.zapimoveis.com.br/imovel/aluguel-c...   \n",
       "2  https://www.zapimoveis.com.br/imovel/aluguel-l...   \n",
       "3  https://www.zapimoveis.com.br/imovel/aluguel-c...   \n",
       "4  https://www.zapimoveis.com.br/imovel/venda-and...   \n",
       "\n",
       "                                            endereco      preco    area  \\\n",
       "0  Avenida Epitácio Pessoa, 4344 - Lagoa, Rio de ...    12500.0   137.0   \n",
       "1       Rua Alice - Laranjeiras, Rio de Janeiro - RJ    20000.0   300.0   \n",
       "2  Avenida das Américas, 5001 - Barra da Tijuca, ...     6000.0    70.0   \n",
       "3  Rua Francisco Sá, 23 - Copacabana, Rio de Jane...     1350.0    35.0   \n",
       "4  Avenida Marechal Floriano, 19 - Centro, Rio de...  8308000.0  1923.0   \n",
       "\n",
       "   andar  quartos  suites  vagas_de_carro  valor_condominio     iptu  \\\n",
       "0    NaN      3.0     1.0               2            1982.0    470.0   \n",
       "1    NaN      8.0     2.0               4               NaN   6558.0   \n",
       "2    1.0      NaN     NaN               2            2940.0  20933.0   \n",
       "3    9.0      NaN     NaN               1            1080.0    258.0   \n",
       "4    NaN      NaN     NaN               0           54700.0  10450.0   \n",
       "\n",
       "   mobiliado  piscina  condominio  elevador  jardim  quadra_esportiva  \\\n",
       "0      False    False       False     False    True             False   \n",
       "1      False    False       False     False   False             False   \n",
       "2      False    False       False      True   False             False   \n",
       "3      False    False       False     False   False             False   \n",
       "4      False    False       False     False   False             False   \n",
       "\n",
       "   academia   finalidade         tipo  \n",
       "0     False  residencial  apartamento  \n",
       "1     False  residencial         casa  \n",
       "2     False    comercial         loja  \n",
       "3     False    comercial     conjunto  \n",
       "4     False    comercial         laje  "
      ]
     },
     "execution_count": 3,
     "metadata": {},
     "output_type": "execute_result"
    }
   ],
   "source": [
    "dados_imoveis = _transform_data_to_dataframe(lista_informacoes_imoveis_aluguel, aluguel=True)\n",
    "\n",
    "print(dados_imoveis.shape)\n",
    "dados_imoveis.head()"
   ]
  },
  {
   "cell_type": "code",
   "execution_count": 5,
   "metadata": {},
   "outputs": [],
   "source": [
    "dados_imoveis.to_parquet(\"dataframe_imoveis_aluguel_tratados.parquet\", index=False)"
   ]
  }
 ],
 "metadata": {
  "kernelspec": {
   "display_name": "venv",
   "language": "python",
   "name": "python3"
  },
  "language_info": {
   "codemirror_mode": {
    "name": "ipython",
    "version": 3
   },
   "file_extension": ".py",
   "mimetype": "text/x-python",
   "name": "python",
   "nbconvert_exporter": "python",
   "pygments_lexer": "ipython3",
   "version": "3.13.0"
  }
 },
 "nbformat": 4,
 "nbformat_minor": 2
}
