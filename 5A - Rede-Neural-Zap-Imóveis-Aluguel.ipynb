{
 "cells": [
  {
   "cell_type": "code",
   "execution_count": 1,
   "metadata": {},
   "outputs": [],
   "source": [
    "import re\n",
    "import itertools\n",
    "import numpy as np\n",
    "import pandas as pd\n",
    "import seaborn as sns\n",
    "# from tqdm import tqdm\n",
    "import matplotlib.pyplot as plt\n",
    "from sklearn.model_selection import train_test_split, cross_val_score\n",
    "from sklearn.linear_model import LinearRegression\n",
    "from sklearn.metrics import mean_absolute_error, mean_squared_error, r2_score\n",
    "from sklearn.preprocessing import StandardScaler\n",
    "from sklearn.model_selection import GridSearchCV, cross_validate\n",
    "from sklearn.pipeline import Pipeline\n",
    "from sklearn.linear_model import Ridge\n",
    "from sklearn.ensemble import RandomForestRegressor, GradientBoostingRegressor\n",
    "from sklearn.metrics import make_scorer, mean_absolute_error, mean_squared_error, r2_score\n",
    "from sklearn.inspection import permutation_importance\n",
    "from sklearn.compose import ColumnTransformer\n",
    "from sklearn.preprocessing import OneHotEncoder\n",
    "from joblib import Parallel, delayed\n",
    "import tensorflow as tf\n",
    "from tensorflow.keras import metrics\n",
    "from tensorflow.keras.models import Sequential, load_model\n",
    "from tensorflow.keras.layers import Dense, Dropout, Input, BatchNormalization\n",
    "from tensorflow.keras.optimizers import Adam\n",
    "from tensorflow.keras.callbacks import EarlyStopping\n",
    "from tensorflow.keras.regularizers import l2\n",
    "from tensorflow.keras.models import Model\n",
    "from tensorflow.keras.layers import Dense\n"
   ]
  },
  {
   "cell_type": "code",
   "execution_count": 2,
   "metadata": {},
   "outputs": [
    {
     "name": "stdout",
     "output_type": "stream",
     "text": [
      "(518, 29)\n"
     ]
    },
    {
     "data": {
      "text/html": [
       "<div>\n",
       "<style scoped>\n",
       "    .dataframe tbody tr th:only-of-type {\n",
       "        vertical-align: middle;\n",
       "    }\n",
       "\n",
       "    .dataframe tbody tr th {\n",
       "        vertical-align: top;\n",
       "    }\n",
       "\n",
       "    .dataframe thead th {\n",
       "        text-align: right;\n",
       "    }\n",
       "</style>\n",
       "<table border=\"1\" class=\"dataframe\">\n",
       "  <thead>\n",
       "    <tr style=\"text-align: right;\">\n",
       "      <th></th>\n",
       "      <th>url</th>\n",
       "      <th>endereco</th>\n",
       "      <th>preco</th>\n",
       "      <th>area</th>\n",
       "      <th>quartos</th>\n",
       "      <th>vagas_de_carro</th>\n",
       "      <th>valor_condominio</th>\n",
       "      <th>iptu</th>\n",
       "      <th>mobiliado</th>\n",
       "      <th>piscina</th>\n",
       "      <th>...</th>\n",
       "      <th>longitude</th>\n",
       "      <th>geometry</th>\n",
       "      <th>nome</th>\n",
       "      <th>distancia_metro</th>\n",
       "      <th>distancia_escola</th>\n",
       "      <th>distancia_unidade_saude</th>\n",
       "      <th>indic_rend</th>\n",
       "      <th>indic_lixo</th>\n",
       "      <th>indic_esgo</th>\n",
       "      <th>indic_agua</th>\n",
       "    </tr>\n",
       "  </thead>\n",
       "  <tbody>\n",
       "    <tr>\n",
       "      <th>0</th>\n",
       "      <td>https://www.zapimoveis.com.br/imovel/aluguel-a...</td>\n",
       "      <td>Avenida Epitácio Pessoa, 4344 - Lagoa, Rio de ...</td>\n",
       "      <td>12500.0</td>\n",
       "      <td>137.0</td>\n",
       "      <td>3.0</td>\n",
       "      <td>2</td>\n",
       "      <td>1982.0</td>\n",
       "      <td>470.0</td>\n",
       "      <td>False</td>\n",
       "      <td>False</td>\n",
       "      <td>...</td>\n",
       "      <td>-43.199374</td>\n",
       "      <td>b'\\x01\\x01\\x00\\x00\\x00\\x97\\xef\\xd4\\x19\\x85\\x99...</td>\n",
       "      <td>Lagoa</td>\n",
       "      <td>948.063010</td>\n",
       "      <td>437.351027</td>\n",
       "      <td>767.352721</td>\n",
       "      <td>20.550754</td>\n",
       "      <td>99.987981</td>\n",
       "      <td>99.915865</td>\n",
       "      <td>99.987981</td>\n",
       "    </tr>\n",
       "    <tr>\n",
       "      <th>2</th>\n",
       "      <td>https://www.zapimoveis.com.br/imovel/aluguel-a...</td>\n",
       "      <td>Rua Pinto Teles, 660 - Praça Seca, Rio de Jane...</td>\n",
       "      <td>1100.0</td>\n",
       "      <td>60.0</td>\n",
       "      <td>2.0</td>\n",
       "      <td>1</td>\n",
       "      <td>409.0</td>\n",
       "      <td>162.0</td>\n",
       "      <td>False</td>\n",
       "      <td>False</td>\n",
       "      <td>...</td>\n",
       "      <td>-43.345604</td>\n",
       "      <td>b'\\x01\\x01\\x00\\x00\\x00\\\\1(\\xc2&lt;\\xacE\\xc0{\\xa2\\...</td>\n",
       "      <td>Praça Seca</td>\n",
       "      <td>8011.304617</td>\n",
       "      <td>133.018579</td>\n",
       "      <td>182.882683</td>\n",
       "      <td>3.681449</td>\n",
       "      <td>99.660238</td>\n",
       "      <td>94.377183</td>\n",
       "      <td>98.861081</td>\n",
       "    </tr>\n",
       "  </tbody>\n",
       "</table>\n",
       "<p>2 rows × 29 columns</p>\n",
       "</div>"
      ],
      "text/plain": [
       "                                                 url  \\\n",
       "0  https://www.zapimoveis.com.br/imovel/aluguel-a...   \n",
       "2  https://www.zapimoveis.com.br/imovel/aluguel-a...   \n",
       "\n",
       "                                            endereco    preco   area  quartos  \\\n",
       "0  Avenida Epitácio Pessoa, 4344 - Lagoa, Rio de ...  12500.0  137.0      3.0   \n",
       "2  Rua Pinto Teles, 660 - Praça Seca, Rio de Jane...   1100.0   60.0      2.0   \n",
       "\n",
       "   vagas_de_carro  valor_condominio   iptu  mobiliado  piscina  ...  \\\n",
       "0               2            1982.0  470.0      False    False  ...   \n",
       "2               1             409.0  162.0      False    False  ...   \n",
       "\n",
       "   longitude                                           geometry        nome  \\\n",
       "0 -43.199374  b'\\x01\\x01\\x00\\x00\\x00\\x97\\xef\\xd4\\x19\\x85\\x99...       Lagoa   \n",
       "2 -43.345604  b'\\x01\\x01\\x00\\x00\\x00\\\\1(\\xc2<\\xacE\\xc0{\\xa2\\...  Praça Seca   \n",
       "\n",
       "   distancia_metro  distancia_escola distancia_unidade_saude indic_rend  \\\n",
       "0       948.063010        437.351027              767.352721  20.550754   \n",
       "2      8011.304617        133.018579              182.882683   3.681449   \n",
       "\n",
       "  indic_lixo  indic_esgo  indic_agua  \n",
       "0  99.987981   99.915865   99.987981  \n",
       "2  99.660238   94.377183   98.861081  \n",
       "\n",
       "[2 rows x 29 columns]"
      ]
     },
     "metadata": {},
     "output_type": "display_data"
    },
    {
     "name": "stdout",
     "output_type": "stream",
     "text": [
      "Porcentagem de informações faltantes: \n"
     ]
    },
    {
     "data": {
      "text/plain": [
       "url                        0.0 %\n",
       "endereco                   0.0 %\n",
       "preco                      0.0 %\n",
       "area                       0.0 %\n",
       "quartos                    0.0 %\n",
       "vagas_de_carro             0.0 %\n",
       "valor_condominio           0.0 %\n",
       "iptu                       0.0 %\n",
       "mobiliado                  0.0 %\n",
       "piscina                    0.0 %\n",
       "condominio                 0.0 %\n",
       "elevador                   0.0 %\n",
       "jardim                     0.0 %\n",
       "quadra_esportiva           0.0 %\n",
       "academia                   0.0 %\n",
       "finalidade                 0.0 %\n",
       "tipo                       0.0 %\n",
       "localizacao                0.0 %\n",
       "latitude                   0.0 %\n",
       "longitude                  0.0 %\n",
       "geometry                   0.0 %\n",
       "nome                       0.0 %\n",
       "distancia_metro            0.0 %\n",
       "distancia_escola           0.0 %\n",
       "distancia_unidade_saude    0.0 %\n",
       "indic_rend                 0.0 %\n",
       "indic_lixo                 0.0 %\n",
       "indic_esgo                 0.0 %\n",
       "indic_agua                 0.0 %\n",
       "dtype: object"
      ]
     },
     "metadata": {},
     "output_type": "display_data"
    }
   ],
   "source": [
    "dataframe_final = pd.read_parquet('dados_webscraping/dataframe_imoveis_aluguel_pronto_para_predicao.parquet')\n",
    "\n",
    "print(dataframe_final.shape)\n",
    "display(dataframe_final.head(2))\n",
    "print(\"Porcentagem de informações faltantes: \")\n",
    "display(round(dataframe_final.isna().sum()/dataframe_final.shape[0] * 100, 2).astype(str) + \" %\")\n"
   ]
  },
  {
   "cell_type": "code",
   "execution_count": 3,
   "metadata": {},
   "outputs": [
    {
     "name": "stdout",
     "output_type": "stream",
     "text": [
      "<class 'pandas.core.frame.DataFrame'>\n",
      "Index: 518 entries, 0 to 1606\n",
      "Data columns (total 15 columns):\n",
      " #   Column                   Non-Null Count  Dtype  \n",
      "---  ------                   --------------  -----  \n",
      " 0   preco                    518 non-null    float64\n",
      " 1   area                     518 non-null    float64\n",
      " 2   quartos                  518 non-null    float64\n",
      " 3   vagas_de_carro           518 non-null    int64  \n",
      " 4   valor_condominio         518 non-null    float64\n",
      " 5   iptu                     518 non-null    float64\n",
      " 6   mobiliado                518 non-null    bool   \n",
      " 7   tipo                     518 non-null    object \n",
      " 8   distancia_metro          518 non-null    float64\n",
      " 9   distancia_escola         518 non-null    float64\n",
      " 10  distancia_unidade_saude  518 non-null    float64\n",
      " 11  indic_rend               518 non-null    float64\n",
      " 12  indic_lixo               518 non-null    float64\n",
      " 13  indic_esgo               518 non-null    float64\n",
      " 14  indic_agua               518 non-null    float64\n",
      "dtypes: bool(1), float64(12), int64(1), object(1)\n",
      "memory usage: 61.2+ KB\n"
     ]
    },
    {
     "data": {
      "text/plain": [
       "None"
      ]
     },
     "metadata": {},
     "output_type": "display_data"
    }
   ],
   "source": [
    "colunas_analise = ['preco', 'area', 'quartos', 'vagas_de_carro', 'valor_condominio',\n",
    "                   'iptu', \"mobiliado\", \"tipo\", \"distancia_metro\", 'distancia_escola', 'distancia_unidade_saude',\n",
    "                   'indic_rend', 'indic_lixo', 'indic_esgo', 'indic_agua']\n",
    "\n",
    "display(dataframe_final[colunas_analise].info())\n",
    "\n",
    "X = dataframe_final[colunas_analise].drop('preco', axis=1)  # Remover a coluna 'preco' de X\n",
    "y = dataframe_final['preco']"
   ]
  },
  {
   "cell_type": "code",
   "execution_count": 4,
   "metadata": {},
   "outputs": [],
   "source": [
    "# Separar colunas numéricas, categóricas e booleanas\n",
    "colunas_numericas = X.select_dtypes(include=[np.number]).columns.tolist()\n",
    "colunas_categoricas = X.select_dtypes(include=[object]).columns.tolist()\n",
    "colunas_booleanas = X.select_dtypes(include=[bool]).columns.tolist()\n",
    "\n",
    "# Criar o pré-processador com StandardScaler para colunas numéricas e OneHotEncoder para colunas categóricas e booleanas\n",
    "preprocessor = ColumnTransformer(\n",
    "    transformers=[\n",
    "        ('num', StandardScaler(), colunas_numericas),\n",
    "        ('cat', OneHotEncoder(handle_unknown='ignore'), colunas_categoricas + colunas_booleanas)\n",
    "    ])\n",
    "\n",
    "# Aplicar o pré-processador nos dados de treino e teste\n",
    "X_train, X_test, y_train, y_test = train_test_split(X, y, test_size=0.2, random_state=42)\n",
    "X_train_scaled = preprocessor.fit_transform(X_train)\n",
    "X_test_scaled = preprocessor.transform(X_test)\n",
    "\n",
    "# Converter `y` para numpy array (necessário para Keras)\n",
    "y_train = np.array(y_train)\n",
    "y_test = np.array(y_test)"
   ]
  },
  {
   "cell_type": "code",
   "execution_count": 5,
   "metadata": {},
   "outputs": [
    {
     "name": "stdout",
     "output_type": "stream",
     "text": [
      "(414, 16)\n"
     ]
    },
    {
     "data": {
      "text/html": [
       "<div>\n",
       "<style scoped>\n",
       "    .dataframe tbody tr th:only-of-type {\n",
       "        vertical-align: middle;\n",
       "    }\n",
       "\n",
       "    .dataframe tbody tr th {\n",
       "        vertical-align: top;\n",
       "    }\n",
       "\n",
       "    .dataframe thead th {\n",
       "        text-align: right;\n",
       "    }\n",
       "</style>\n",
       "<table border=\"1\" class=\"dataframe\">\n",
       "  <thead>\n",
       "    <tr style=\"text-align: right;\">\n",
       "      <th></th>\n",
       "      <th>num__area</th>\n",
       "      <th>num__quartos</th>\n",
       "      <th>num__vagas_de_carro</th>\n",
       "      <th>num__valor_condominio</th>\n",
       "      <th>num__iptu</th>\n",
       "      <th>num__distancia_metro</th>\n",
       "      <th>num__distancia_escola</th>\n",
       "      <th>num__distancia_unidade_saude</th>\n",
       "      <th>num__indic_rend</th>\n",
       "      <th>num__indic_lixo</th>\n",
       "      <th>num__indic_esgo</th>\n",
       "      <th>num__indic_agua</th>\n",
       "      <th>cat__tipo_apartamento</th>\n",
       "      <th>cat__tipo_casa</th>\n",
       "      <th>cat__mobiliado_False</th>\n",
       "      <th>cat__mobiliado_True</th>\n",
       "    </tr>\n",
       "  </thead>\n",
       "  <tbody>\n",
       "    <tr>\n",
       "      <th>0</th>\n",
       "      <td>0.235705</td>\n",
       "      <td>0.549450</td>\n",
       "      <td>-0.031817</td>\n",
       "      <td>0.504608</td>\n",
       "      <td>-0.162708</td>\n",
       "      <td>-0.666419</td>\n",
       "      <td>-0.110196</td>\n",
       "      <td>-0.234587</td>\n",
       "      <td>-0.093234</td>\n",
       "      <td>0.609032</td>\n",
       "      <td>0.766037</td>\n",
       "      <td>0.728210</td>\n",
       "      <td>1.0</td>\n",
       "      <td>0.0</td>\n",
       "      <td>1.0</td>\n",
       "      <td>0.0</td>\n",
       "    </tr>\n",
       "    <tr>\n",
       "      <th>1</th>\n",
       "      <td>0.041474</td>\n",
       "      <td>-0.538935</td>\n",
       "      <td>-0.031817</td>\n",
       "      <td>-0.978665</td>\n",
       "      <td>-0.681600</td>\n",
       "      <td>-0.508302</td>\n",
       "      <td>-0.266945</td>\n",
       "      <td>-0.430312</td>\n",
       "      <td>-1.092935</td>\n",
       "      <td>0.254257</td>\n",
       "      <td>0.694830</td>\n",
       "      <td>0.619705</td>\n",
       "      <td>0.0</td>\n",
       "      <td>1.0</td>\n",
       "      <td>1.0</td>\n",
       "      <td>0.0</td>\n",
       "    </tr>\n",
       "  </tbody>\n",
       "</table>\n",
       "</div>"
      ],
      "text/plain": [
       "   num__area  num__quartos  num__vagas_de_carro  num__valor_condominio  \\\n",
       "0   0.235705      0.549450            -0.031817               0.504608   \n",
       "1   0.041474     -0.538935            -0.031817              -0.978665   \n",
       "\n",
       "   num__iptu  num__distancia_metro  num__distancia_escola  \\\n",
       "0  -0.162708             -0.666419              -0.110196   \n",
       "1  -0.681600             -0.508302              -0.266945   \n",
       "\n",
       "   num__distancia_unidade_saude  num__indic_rend  num__indic_lixo  \\\n",
       "0                     -0.234587        -0.093234         0.609032   \n",
       "1                     -0.430312        -1.092935         0.254257   \n",
       "\n",
       "   num__indic_esgo  num__indic_agua  cat__tipo_apartamento  cat__tipo_casa  \\\n",
       "0         0.766037         0.728210                    1.0             0.0   \n",
       "1         0.694830         0.619705                    0.0             1.0   \n",
       "\n",
       "   cat__mobiliado_False  cat__mobiliado_True  \n",
       "0                   1.0                  0.0  \n",
       "1                   1.0                  0.0  "
      ]
     },
     "metadata": {},
     "output_type": "display_data"
    }
   ],
   "source": [
    "X_train_scaled_df = pd.DataFrame(X_train_scaled, columns=preprocessor.get_feature_names_out())\n",
    "pd.set_option('display.max_columns', None)\n",
    "print(X_train_scaled_df.shape)\n",
    "display(X_train_scaled_df.head(2))"
   ]
  },
  {
   "cell_type": "code",
   "execution_count": 6,
   "metadata": {},
   "outputs": [
    {
     "name": "stderr",
     "output_type": "stream",
     "text": [
      "Testando combinações:   3%|▎         | 8/243 [00:00<00:11, 21.11it/s]2025-01-19 17:41:38.408557: E external/local_xla/xla/stream_executor/cuda/cuda_fft.cc:477] Unable to register cuFFT factory: Attempting to register factory for plugin cuFFT when one has already been registered\n",
      "WARNING: All log messages before absl::InitializeLog() is called are written to STDERR\n",
      "E0000 00:00:1737319298.449343    9333 cuda_dnn.cc:8310] Unable to register cuDNN factory: Attempting to register factory for plugin cuDNN when one has already been registered\n",
      "E0000 00:00:1737319298.463078    9333 cuda_blas.cc:1418] Unable to register cuBLAS factory: Attempting to register factory for plugin cuBLAS when one has already been registered\n",
      "2025-01-19 17:41:38.501793: E external/local_xla/xla/stream_executor/cuda/cuda_fft.cc:477] Unable to register cuFFT factory: Attempting to register factory for plugin cuFFT when one has already been registered\n",
      "2025-01-19 17:41:38.528919: E external/local_xla/xla/stream_executor/cuda/cuda_fft.cc:477] Unable to register cuFFT factory: Attempting to register factory for plugin cuFFT when one has already been registered\n",
      "2025-01-19 17:41:38.533500: E external/local_xla/xla/stream_executor/cuda/cuda_fft.cc:477] Unable to register cuFFT factory: Attempting to register factory for plugin cuFFT when one has already been registered\n",
      "2025-01-19 17:41:38.538459: I tensorflow/core/platform/cpu_feature_guard.cc:210] This TensorFlow binary is optimized to use available CPU instructions in performance-critical operations.\n",
      "To enable the following instructions: AVX2 FMA, in other operations, rebuild TensorFlow with the appropriate compiler flags.\n",
      "2025-01-19 17:41:38.545688: E external/local_xla/xla/stream_executor/cuda/cuda_fft.cc:477] Unable to register cuFFT factory: Attempting to register factory for plugin cuFFT when one has already been registered\n",
      "WARNING: All log messages before absl::InitializeLog() is called are written to STDERR\n",
      "E0000 00:00:1737319298.569894    9337 cuda_dnn.cc:8310] Unable to register cuDNN factory: Attempting to register factory for plugin cuDNN when one has already been registered\n",
      "WARNING: All log messages before absl::InitializeLog() is called are written to STDERR\n",
      "E0000 00:00:1737319298.571489    9339 cuda_dnn.cc:8310] Unable to register cuDNN factory: Attempting to register factory for plugin cuDNN when one has already been registered\n",
      "E0000 00:00:1737319298.583197    9339 cuda_blas.cc:1418] Unable to register cuBLAS factory: Attempting to register factory for plugin cuBLAS when one has already been registered\n",
      "E0000 00:00:1737319298.589815    9337 cuda_blas.cc:1418] Unable to register cuBLAS factory: Attempting to register factory for plugin cuBLAS when one has already been registered\n",
      "WARNING: All log messages before absl::InitializeLog() is called are written to STDERR\n",
      "E0000 00:00:1737319298.595820    9336 cuda_dnn.cc:8310] Unable to register cuDNN factory: Attempting to register factory for plugin cuDNN when one has already been registered\n",
      "WARNING: All log messages before absl::InitializeLog() is called are written to STDERR\n",
      "E0000 00:00:1737319298.601214    9335 cuda_dnn.cc:8310] Unable to register cuDNN factory: Attempting to register factory for plugin cuDNN when one has already been registered\n",
      "2025-01-19 17:41:38.614004: E external/local_xla/xla/stream_executor/cuda/cuda_fft.cc:477] Unable to register cuFFT factory: Attempting to register factory for plugin cuFFT when one has already been registered\n",
      "E0000 00:00:1737319298.615077    9335 cuda_blas.cc:1418] Unable to register cuBLAS factory: Attempting to register factory for plugin cuBLAS when one has already been registered\n",
      "E0000 00:00:1737319298.616019    9336 cuda_blas.cc:1418] Unable to register cuBLAS factory: Attempting to register factory for plugin cuBLAS when one has already been registered\n",
      "2025-01-19 17:41:38.627887: I tensorflow/core/platform/cpu_feature_guard.cc:210] This TensorFlow binary is optimized to use available CPU instructions in performance-critical operations.\n",
      "To enable the following instructions: AVX2 FMA, in other operations, rebuild TensorFlow with the appropriate compiler flags.\n",
      "2025-01-19 17:41:38.647362: I tensorflow/core/platform/cpu_feature_guard.cc:210] This TensorFlow binary is optimized to use available CPU instructions in performance-critical operations.\n",
      "To enable the following instructions: AVX2 FMA, in other operations, rebuild TensorFlow with the appropriate compiler flags.\n",
      "2025-01-19 17:41:38.647879: E external/local_xla/xla/stream_executor/cuda/cuda_fft.cc:477] Unable to register cuFFT factory: Attempting to register factory for plugin cuFFT when one has already been registered\n",
      "WARNING: All log messages before absl::InitializeLog() is called are written to STDERR\n",
      "E0000 00:00:1737319298.664501    9338 cuda_dnn.cc:8310] Unable to register cuDNN factory: Attempting to register factory for plugin cuDNN when one has already been registered\n",
      "2025-01-19 17:41:38.673970: I tensorflow/core/platform/cpu_feature_guard.cc:210] This TensorFlow binary is optimized to use available CPU instructions in performance-critical operations.\n",
      "To enable the following instructions: AVX2 FMA, in other operations, rebuild TensorFlow with the appropriate compiler flags.\n",
      "E0000 00:00:1737319298.676834    9338 cuda_blas.cc:1418] Unable to register cuBLAS factory: Attempting to register factory for plugin cuBLAS when one has already been registered\n",
      "2025-01-19 17:41:38.678629: E external/local_xla/xla/stream_executor/cuda/cuda_fft.cc:477] Unable to register cuFFT factory: Attempting to register factory for plugin cuFFT when one has already been registered\n",
      "2025-01-19 17:41:38.681240: I tensorflow/core/platform/cpu_feature_guard.cc:210] This TensorFlow binary is optimized to use available CPU instructions in performance-critical operations.\n",
      "To enable the following instructions: AVX2 FMA, in other operations, rebuild TensorFlow with the appropriate compiler flags.\n",
      "WARNING: All log messages before absl::InitializeLog() is called are written to STDERR\n",
      "E0000 00:00:1737319298.700130    9347 cuda_dnn.cc:8310] Unable to register cuDNN factory: Attempting to register factory for plugin cuDNN when one has already been registered\n",
      "E0000 00:00:1737319298.709431    9347 cuda_blas.cc:1418] Unable to register cuBLAS factory: Attempting to register factory for plugin cuBLAS when one has already been registered\n",
      "2025-01-19 17:41:38.712427: I tensorflow/core/platform/cpu_feature_guard.cc:210] This TensorFlow binary is optimized to use available CPU instructions in performance-critical operations.\n",
      "To enable the following instructions: AVX2 FMA, in other operations, rebuild TensorFlow with the appropriate compiler flags.\n",
      "WARNING: All log messages before absl::InitializeLog() is called are written to STDERR\n",
      "E0000 00:00:1737319298.717774    9334 cuda_dnn.cc:8310] Unable to register cuDNN factory: Attempting to register factory for plugin cuDNN when one has already been registered\n",
      "E0000 00:00:1737319298.726136    9334 cuda_blas.cc:1418] Unable to register cuBLAS factory: Attempting to register factory for plugin cuBLAS when one has already been registered\n",
      "2025-01-19 17:41:38.741044: I tensorflow/core/platform/cpu_feature_guard.cc:210] This TensorFlow binary is optimized to use available CPU instructions in performance-critical operations.\n",
      "To enable the following instructions: AVX2 FMA, in other operations, rebuild TensorFlow with the appropriate compiler flags.\n",
      "2025-01-19 17:41:38.753798: I tensorflow/core/platform/cpu_feature_guard.cc:210] This TensorFlow binary is optimized to use available CPU instructions in performance-critical operations.\n",
      "To enable the following instructions: AVX2 FMA, in other operations, rebuild TensorFlow with the appropriate compiler flags.\n"
     ]
    },
    {
     "ename": "KeyboardInterrupt",
     "evalue": "",
     "output_type": "error",
     "traceback": [
      "\u001b[0;31m---------------------------------------------------------------------------\u001b[0m",
      "\u001b[0;31mKeyboardInterrupt\u001b[0m                         Traceback (most recent call last)",
      "Cell \u001b[0;32mIn[6], line 101\u001b[0m\n\u001b[1;32m     96\u001b[0m             best_model \u001b[38;5;241m=\u001b[39m model\n\u001b[1;32m     98\u001b[0m     \u001b[38;5;28;01mreturn\u001b[39;00m best_model, best_score, results\n\u001b[0;32m--> 101\u001b[0m best_model, best_score, results \u001b[38;5;241m=\u001b[39m \u001b[43mtestar_varios_modelos_paralelo\u001b[49m\u001b[43m(\u001b[49m\u001b[43mX_train_scaled\u001b[49m\u001b[43m,\u001b[49m\u001b[43m \u001b[49m\u001b[43mX_test_scaled\u001b[49m\u001b[43m,\u001b[49m\u001b[43m \u001b[49m\u001b[43my_train\u001b[49m\u001b[43m,\u001b[49m\u001b[43m \u001b[49m\u001b[43my_test\u001b[49m\u001b[43m)\u001b[49m\n\u001b[1;32m    102\u001b[0m best_model \u001b[38;5;241m=\u001b[39m load_model(\u001b[38;5;124mf\u001b[39m\u001b[38;5;124m'\u001b[39m\u001b[38;5;124mmodels/melhor_modelo_aluguel_2.keras\u001b[39m\u001b[38;5;124m'\u001b[39m)\n",
      "Cell \u001b[0;32mIn[6], line 83\u001b[0m, in \u001b[0;36mtestar_varios_modelos_paralelo\u001b[0;34m(X_train, X_test, y_train, y_test)\u001b[0m\n\u001b[1;32m     80\u001b[0m param_combinations \u001b[38;5;241m=\u001b[39m \u001b[38;5;28mlist\u001b[39m(itertools\u001b[38;5;241m.\u001b[39mproduct(learning_rates, hidden_layer_options, neurons_options, activation_functions, dropout_rates))\n\u001b[1;32m     82\u001b[0m \u001b[38;5;66;03m# Executar os testes em paralelo\u001b[39;00m\n\u001b[0;32m---> 83\u001b[0m results \u001b[38;5;241m=\u001b[39m \u001b[43mParallel\u001b[49m\u001b[43m(\u001b[49m\u001b[43mn_jobs\u001b[49m\u001b[38;5;241;43m=\u001b[39;49m\u001b[38;5;241;43m-\u001b[39;49m\u001b[38;5;241;43m1\u001b[39;49m\u001b[43m)\u001b[49m\u001b[43m(\u001b[49m\n\u001b[1;32m     84\u001b[0m \u001b[43m    \u001b[49m\u001b[43mdelayed\u001b[49m\u001b[43m(\u001b[49m\u001b[43mtestar_modelo\u001b[49m\u001b[43m)\u001b[49m\u001b[43m(\u001b[49m\u001b[43mlr\u001b[49m\u001b[43m,\u001b[49m\u001b[43m \u001b[49m\u001b[43mhidden_layers\u001b[49m\u001b[43m,\u001b[49m\u001b[43m \u001b[49m\u001b[43mneurons\u001b[49m\u001b[43m,\u001b[49m\u001b[43m \u001b[49m\u001b[43mactivation\u001b[49m\u001b[43m,\u001b[49m\u001b[43m \u001b[49m\u001b[43mdropout\u001b[49m\u001b[43m,\u001b[49m\u001b[43m \u001b[49m\u001b[43mX_train\u001b[49m\u001b[43m,\u001b[49m\u001b[43m \u001b[49m\u001b[43my_train\u001b[49m\u001b[43m,\u001b[49m\u001b[43m \u001b[49m\u001b[43mX_test\u001b[49m\u001b[43m,\u001b[49m\u001b[43m \u001b[49m\u001b[43my_test\u001b[49m\u001b[43m)\u001b[49m\n\u001b[1;32m     85\u001b[0m \u001b[43m    \u001b[49m\u001b[38;5;28;43;01mfor\u001b[39;49;00m\u001b[43m \u001b[49m\u001b[43mlr\u001b[49m\u001b[43m,\u001b[49m\u001b[43m \u001b[49m\u001b[43mhidden_layers\u001b[49m\u001b[43m,\u001b[49m\u001b[43m \u001b[49m\u001b[43mneurons\u001b[49m\u001b[43m,\u001b[49m\u001b[43m \u001b[49m\u001b[43mactivation\u001b[49m\u001b[43m,\u001b[49m\u001b[43m \u001b[49m\u001b[43mdropout\u001b[49m\u001b[43m \u001b[49m\u001b[38;5;129;43;01min\u001b[39;49;00m\u001b[43m \u001b[49m\u001b[43mtqdm\u001b[49m\u001b[43m(\u001b[49m\u001b[43mparam_combinations\u001b[49m\u001b[43m,\u001b[49m\u001b[43m \u001b[49m\u001b[43mdesc\u001b[49m\u001b[38;5;241;43m=\u001b[39;49m\u001b[38;5;124;43m\"\u001b[39;49m\u001b[38;5;124;43mTestando combinações\u001b[39;49m\u001b[38;5;124;43m\"\u001b[39;49m\u001b[43m)\u001b[49m\n\u001b[1;32m     86\u001b[0m \u001b[43m\u001b[49m\u001b[43m)\u001b[49m\n\u001b[1;32m     88\u001b[0m \u001b[38;5;66;03m# Identificar o melhor modelo\u001b[39;00m\n\u001b[1;32m     89\u001b[0m best_score \u001b[38;5;241m=\u001b[39m \u001b[38;5;28mfloat\u001b[39m(\u001b[38;5;124m'\u001b[39m\u001b[38;5;124minf\u001b[39m\u001b[38;5;124m'\u001b[39m)\n",
      "File \u001b[0;32m~/dev/github/zap-imoveis-scraping-prediction/venv_rn/lib/python3.10/site-packages/joblib/parallel.py:2007\u001b[0m, in \u001b[0;36mParallel.__call__\u001b[0;34m(self, iterable)\u001b[0m\n\u001b[1;32m   2001\u001b[0m \u001b[38;5;66;03m# The first item from the output is blank, but it makes the interpreter\u001b[39;00m\n\u001b[1;32m   2002\u001b[0m \u001b[38;5;66;03m# progress until it enters the Try/Except block of the generator and\u001b[39;00m\n\u001b[1;32m   2003\u001b[0m \u001b[38;5;66;03m# reaches the first `yield` statement. This starts the asynchronous\u001b[39;00m\n\u001b[1;32m   2004\u001b[0m \u001b[38;5;66;03m# dispatch of the tasks to the workers.\u001b[39;00m\n\u001b[1;32m   2005\u001b[0m \u001b[38;5;28mnext\u001b[39m(output)\n\u001b[0;32m-> 2007\u001b[0m \u001b[38;5;28;01mreturn\u001b[39;00m output \u001b[38;5;28;01mif\u001b[39;00m \u001b[38;5;28mself\u001b[39m\u001b[38;5;241m.\u001b[39mreturn_generator \u001b[38;5;28;01melse\u001b[39;00m \u001b[38;5;28;43mlist\u001b[39;49m\u001b[43m(\u001b[49m\u001b[43moutput\u001b[49m\u001b[43m)\u001b[49m\n",
      "File \u001b[0;32m~/dev/github/zap-imoveis-scraping-prediction/venv_rn/lib/python3.10/site-packages/joblib/parallel.py:1650\u001b[0m, in \u001b[0;36mParallel._get_outputs\u001b[0;34m(self, iterator, pre_dispatch)\u001b[0m\n\u001b[1;32m   1647\u001b[0m     \u001b[38;5;28;01myield\u001b[39;00m\n\u001b[1;32m   1649\u001b[0m     \u001b[38;5;28;01mwith\u001b[39;00m \u001b[38;5;28mself\u001b[39m\u001b[38;5;241m.\u001b[39m_backend\u001b[38;5;241m.\u001b[39mretrieval_context():\n\u001b[0;32m-> 1650\u001b[0m         \u001b[38;5;28;01myield from\u001b[39;00m \u001b[38;5;28mself\u001b[39m\u001b[38;5;241m.\u001b[39m_retrieve()\n\u001b[1;32m   1652\u001b[0m \u001b[38;5;28;01mexcept\u001b[39;00m \u001b[38;5;167;01mGeneratorExit\u001b[39;00m:\n\u001b[1;32m   1653\u001b[0m     \u001b[38;5;66;03m# The generator has been garbage collected before being fully\u001b[39;00m\n\u001b[1;32m   1654\u001b[0m     \u001b[38;5;66;03m# consumed. This aborts the remaining tasks if possible and warn\u001b[39;00m\n\u001b[1;32m   1655\u001b[0m     \u001b[38;5;66;03m# the user if necessary.\u001b[39;00m\n\u001b[1;32m   1656\u001b[0m     \u001b[38;5;28mself\u001b[39m\u001b[38;5;241m.\u001b[39m_exception \u001b[38;5;241m=\u001b[39m \u001b[38;5;28;01mTrue\u001b[39;00m\n",
      "File \u001b[0;32m~/dev/github/zap-imoveis-scraping-prediction/venv_rn/lib/python3.10/site-packages/joblib/parallel.py:1762\u001b[0m, in \u001b[0;36mParallel._retrieve\u001b[0;34m(self)\u001b[0m\n\u001b[1;32m   1757\u001b[0m \u001b[38;5;66;03m# If the next job is not ready for retrieval yet, we just wait for\u001b[39;00m\n\u001b[1;32m   1758\u001b[0m \u001b[38;5;66;03m# async callbacks to progress.\u001b[39;00m\n\u001b[1;32m   1759\u001b[0m \u001b[38;5;28;01mif\u001b[39;00m ((\u001b[38;5;28mlen\u001b[39m(\u001b[38;5;28mself\u001b[39m\u001b[38;5;241m.\u001b[39m_jobs) \u001b[38;5;241m==\u001b[39m \u001b[38;5;241m0\u001b[39m) \u001b[38;5;129;01mor\u001b[39;00m\n\u001b[1;32m   1760\u001b[0m     (\u001b[38;5;28mself\u001b[39m\u001b[38;5;241m.\u001b[39m_jobs[\u001b[38;5;241m0\u001b[39m]\u001b[38;5;241m.\u001b[39mget_status(\n\u001b[1;32m   1761\u001b[0m         timeout\u001b[38;5;241m=\u001b[39m\u001b[38;5;28mself\u001b[39m\u001b[38;5;241m.\u001b[39mtimeout) \u001b[38;5;241m==\u001b[39m TASK_PENDING)):\n\u001b[0;32m-> 1762\u001b[0m     \u001b[43mtime\u001b[49m\u001b[38;5;241;43m.\u001b[39;49m\u001b[43msleep\u001b[49m\u001b[43m(\u001b[49m\u001b[38;5;241;43m0.01\u001b[39;49m\u001b[43m)\u001b[49m\n\u001b[1;32m   1763\u001b[0m     \u001b[38;5;28;01mcontinue\u001b[39;00m\n\u001b[1;32m   1765\u001b[0m \u001b[38;5;66;03m# We need to be careful: the job list can be filling up as\u001b[39;00m\n\u001b[1;32m   1766\u001b[0m \u001b[38;5;66;03m# we empty it and Python list are not thread-safe by\u001b[39;00m\n\u001b[1;32m   1767\u001b[0m \u001b[38;5;66;03m# default hence the use of the lock\u001b[39;00m\n",
      "\u001b[0;31mKeyboardInterrupt\u001b[0m: "
     ]
    },
    {
     "name": "stderr",
     "output_type": "stream",
     "text": [
      "Testando combinações:   3%|▎         | 8/243 [00:19<00:11, 21.11it/s]"
     ]
    }
   ],
   "source": [
    "# Função para criar e treinar o modelo de rede neural\n",
    "def criar_rede_neural(input_shape, learning_rate=0.001, hidden_layers=2, neurons=64, dropout_rate=0.2, activation='relu', \n",
    "                      output_activation='linear', optimizer='adam', l2_reg=0.01):\n",
    "    \n",
    "    # Verificar parâmetros\n",
    "    if hidden_layers < 1:\n",
    "        raise ValueError(\"O número de camadas ocultas deve ser pelo menos 1.\")\n",
    "    if neurons < 1:\n",
    "        raise ValueError(\"O número de neurônios deve ser pelo menos 1.\")\n",
    "    if not 0 <= dropout_rate < 1:\n",
    "        raise ValueError(\"A taxa de dropout deve estar entre 0 e 1.\")\n",
    "\n",
    "    model = Sequential()\n",
    "    model.add(Input(shape=(input_shape,)))\n",
    "    model.add(Dense(neurons, activation=activation, kernel_regularizer=l2(l2_reg)))\n",
    "\n",
    "    # Adicionar camadas ocultas\n",
    "    for _ in range(hidden_layers - 1):\n",
    "        model.add(Dense(neurons, activation=activation, kernel_regularizer=l2(l2_reg)))\n",
    "        model.add(Dropout(dropout_rate))\n",
    "\n",
    "    # Camada de saída (1 neurônio para regressão)\n",
    "    model.add(Dense(1, activation='linear'))\n",
    "\n",
    "    # Escolher otimizador\n",
    "    if optimizer.lower() == 'adam':\n",
    "        optimizer = Adam(learning_rate=learning_rate)\n",
    "    elif optimizer.lower() == 'sgd':\n",
    "        optimizer = SGD(learning_rate=learning_rate)\n",
    "    else:\n",
    "        raise ValueError(\"Otimizador não suportado. Use 'adam' ou 'sgd'.\")\n",
    "\n",
    "    # Compilar o modelo\n",
    "    model.compile(\n",
    "        optimizer=optimizer, \n",
    "        loss='mse', \n",
    "        metrics=['mae'])\n",
    "    \n",
    "    return model\n",
    "\n",
    "def testar_modelo(lr, hidden_layers, neurons, activation, dropout, X_train, y_train, X_test, y_test):\n",
    "\n",
    "    def learning_rate_scheduler(epoch, lr):\n",
    "        return float(lr * tf.math.exp(-0.09))\n",
    "\n",
    "    # Criar o modelo\n",
    "    model = criar_rede_neural(\n",
    "        input_shape=X_train.shape[1], \n",
    "        learning_rate=lr, \n",
    "        hidden_layers=hidden_layers, \n",
    "        neurons=neurons, \n",
    "        dropout_rate=dropout, \n",
    "        activation=activation\n",
    "    )\n",
    "\n",
    "    # Treinar o modelo\n",
    "    model.fit(X_train, y_train, epochs=100, batch_size=32, verbose=0, callbacks=[tf.keras.callbacks.LearningRateScheduler(learning_rate_scheduler)])\n",
    "    \n",
    "    # Fazer previsões\n",
    "    y_pred = model.predict(X_test)\n",
    "    \n",
    "    # Calcular métricas\n",
    "    mae = mean_absolute_error(y_test, y_pred)\n",
    "    rmse = np.sqrt(mean_squared_error(y_test, y_pred))\n",
    "    r2 = r2_score(y_test, y_pred)\n",
    "    mape = np.mean(np.abs((y_test - y_pred) / y_test)) * 100  # MAPE\n",
    "    \n",
    "    # Retornar resultados e o modelo\n",
    "    return mae, rmse, r2, mape, model\n",
    "\n",
    "def testar_varios_modelos_paralelo(X_train, X_test, y_train, y_test):\n",
    "    \n",
    "    # Parâmetros para testar\n",
    "    learning_rates = [0.001, 0.01, 0.1]\n",
    "    hidden_layer_options = [1, 2, 3]\n",
    "    neurons_options = [32, 64, 128]\n",
    "    activation_functions = ['relu', 'tanh', 'sigmoid']\n",
    "    dropout_rates = [0.2, 0.3, 0.5]\n",
    "    \n",
    "    param_combinations = list(itertools.product(learning_rates, hidden_layer_options, neurons_options, activation_functions, dropout_rates))\n",
    "        \n",
    "    # Executar os testes em paralelo\n",
    "    results = Parallel(n_jobs=-1)(\n",
    "        delayed(testar_modelo)(lr, hidden_layers, neurons, activation, dropout, X_train, y_train, X_test, y_test)\n",
    "        for lr, hidden_layers, neurons, activation, dropout in tqdm(param_combinations, desc=\"Testando combinações\")\n",
    "    )\n",
    "    \n",
    "    # Identificar o melhor modelo\n",
    "    best_score = float('inf')\n",
    "    best_model = None\n",
    "    \n",
    "    for mae, rmse, r2, mape, model in results:\n",
    "        print(f\"MAE: {mae:.4f} | RMSE: {rmse:.4f} | R²: {r2:.4f} | MAPE: {mape:.2f}%\")\n",
    "        if mae < best_score:\n",
    "            best_score = mae\n",
    "            best_model = model\n",
    "    \n",
    "    return best_model, best_score, results\n",
    "\n",
    "\n",
    "best_model, best_score, results = testar_varios_modelos_paralelo(X_train_scaled, X_test_scaled, y_train, y_test)"
   ]
  },
  {
   "cell_type": "code",
   "execution_count": 2,
   "metadata": {},
   "outputs": [
    {
     "data": {
      "text/plain": [
       "<Sequential name=sequential_19, built=True>"
      ]
     },
     "execution_count": 2,
     "metadata": {},
     "output_type": "execute_result"
    }
   ],
   "source": [
    "best_model = load_model(f'models/melhor_modelo_aluguel.keras')\n",
    "best_model"
   ]
  },
  {
   "cell_type": "code",
   "execution_count": 3,
   "metadata": {},
   "outputs": [
    {
     "data": {
      "text/html": [
       "<pre style=\"white-space:pre;overflow-x:auto;line-height:normal;font-family:Menlo,'DejaVu Sans Mono',consolas,'Courier New',monospace\"><span style=\"font-weight: bold\">Model: \"sequential_19\"</span>\n",
       "</pre>\n"
      ],
      "text/plain": [
       "\u001b[1mModel: \"sequential_19\"\u001b[0m\n"
      ]
     },
     "metadata": {},
     "output_type": "display_data"
    },
    {
     "data": {
      "text/html": [
       "<pre style=\"white-space:pre;overflow-x:auto;line-height:normal;font-family:Menlo,'DejaVu Sans Mono',consolas,'Courier New',monospace\">┏━━━━━━━━━━━━━━━━━━━━━━━━━━━━━━━━━┳━━━━━━━━━━━━━━━━━━━━━━━━┳━━━━━━━━━━━━━━━┓\n",
       "┃<span style=\"font-weight: bold\"> Layer (type)                    </span>┃<span style=\"font-weight: bold\"> Output Shape           </span>┃<span style=\"font-weight: bold\">       Param # </span>┃\n",
       "┡━━━━━━━━━━━━━━━━━━━━━━━━━━━━━━━━━╇━━━━━━━━━━━━━━━━━━━━━━━━╇━━━━━━━━━━━━━━━┩\n",
       "│ dense_57 (<span style=\"color: #0087ff; text-decoration-color: #0087ff\">Dense</span>)                │ (<span style=\"color: #00d7ff; text-decoration-color: #00d7ff\">None</span>, <span style=\"color: #00af00; text-decoration-color: #00af00\">128</span>)            │         <span style=\"color: #00af00; text-decoration-color: #00af00\">2,176</span> │\n",
       "├─────────────────────────────────┼────────────────────────┼───────────────┤\n",
       "│ dense_58 (<span style=\"color: #0087ff; text-decoration-color: #0087ff\">Dense</span>)                │ (<span style=\"color: #00d7ff; text-decoration-color: #00d7ff\">None</span>, <span style=\"color: #00af00; text-decoration-color: #00af00\">128</span>)            │        <span style=\"color: #00af00; text-decoration-color: #00af00\">16,512</span> │\n",
       "├─────────────────────────────────┼────────────────────────┼───────────────┤\n",
       "│ dropout_19 (<span style=\"color: #0087ff; text-decoration-color: #0087ff\">Dropout</span>)            │ (<span style=\"color: #00d7ff; text-decoration-color: #00d7ff\">None</span>, <span style=\"color: #00af00; text-decoration-color: #00af00\">128</span>)            │             <span style=\"color: #00af00; text-decoration-color: #00af00\">0</span> │\n",
       "├─────────────────────────────────┼────────────────────────┼───────────────┤\n",
       "│ dense_59 (<span style=\"color: #0087ff; text-decoration-color: #0087ff\">Dense</span>)                │ (<span style=\"color: #00d7ff; text-decoration-color: #00d7ff\">None</span>, <span style=\"color: #00af00; text-decoration-color: #00af00\">128</span>)            │        <span style=\"color: #00af00; text-decoration-color: #00af00\">16,512</span> │\n",
       "├─────────────────────────────────┼────────────────────────┼───────────────┤\n",
       "│ dropout_20 (<span style=\"color: #0087ff; text-decoration-color: #0087ff\">Dropout</span>)            │ (<span style=\"color: #00d7ff; text-decoration-color: #00d7ff\">None</span>, <span style=\"color: #00af00; text-decoration-color: #00af00\">128</span>)            │             <span style=\"color: #00af00; text-decoration-color: #00af00\">0</span> │\n",
       "├─────────────────────────────────┼────────────────────────┼───────────────┤\n",
       "│ dense_60 (<span style=\"color: #0087ff; text-decoration-color: #0087ff\">Dense</span>)                │ (<span style=\"color: #00d7ff; text-decoration-color: #00d7ff\">None</span>, <span style=\"color: #00af00; text-decoration-color: #00af00\">1</span>)              │           <span style=\"color: #00af00; text-decoration-color: #00af00\">129</span> │\n",
       "└─────────────────────────────────┴────────────────────────┴───────────────┘\n",
       "</pre>\n"
      ],
      "text/plain": [
       "┏━━━━━━━━━━━━━━━━━━━━━━━━━━━━━━━━━┳━━━━━━━━━━━━━━━━━━━━━━━━┳━━━━━━━━━━━━━━━┓\n",
       "┃\u001b[1m \u001b[0m\u001b[1mLayer (type)                   \u001b[0m\u001b[1m \u001b[0m┃\u001b[1m \u001b[0m\u001b[1mOutput Shape          \u001b[0m\u001b[1m \u001b[0m┃\u001b[1m \u001b[0m\u001b[1m      Param #\u001b[0m\u001b[1m \u001b[0m┃\n",
       "┡━━━━━━━━━━━━━━━━━━━━━━━━━━━━━━━━━╇━━━━━━━━━━━━━━━━━━━━━━━━╇━━━━━━━━━━━━━━━┩\n",
       "│ dense_57 (\u001b[38;5;33mDense\u001b[0m)                │ (\u001b[38;5;45mNone\u001b[0m, \u001b[38;5;34m128\u001b[0m)            │         \u001b[38;5;34m2,176\u001b[0m │\n",
       "├─────────────────────────────────┼────────────────────────┼───────────────┤\n",
       "│ dense_58 (\u001b[38;5;33mDense\u001b[0m)                │ (\u001b[38;5;45mNone\u001b[0m, \u001b[38;5;34m128\u001b[0m)            │        \u001b[38;5;34m16,512\u001b[0m │\n",
       "├─────────────────────────────────┼────────────────────────┼───────────────┤\n",
       "│ dropout_19 (\u001b[38;5;33mDropout\u001b[0m)            │ (\u001b[38;5;45mNone\u001b[0m, \u001b[38;5;34m128\u001b[0m)            │             \u001b[38;5;34m0\u001b[0m │\n",
       "├─────────────────────────────────┼────────────────────────┼───────────────┤\n",
       "│ dense_59 (\u001b[38;5;33mDense\u001b[0m)                │ (\u001b[38;5;45mNone\u001b[0m, \u001b[38;5;34m128\u001b[0m)            │        \u001b[38;5;34m16,512\u001b[0m │\n",
       "├─────────────────────────────────┼────────────────────────┼───────────────┤\n",
       "│ dropout_20 (\u001b[38;5;33mDropout\u001b[0m)            │ (\u001b[38;5;45mNone\u001b[0m, \u001b[38;5;34m128\u001b[0m)            │             \u001b[38;5;34m0\u001b[0m │\n",
       "├─────────────────────────────────┼────────────────────────┼───────────────┤\n",
       "│ dense_60 (\u001b[38;5;33mDense\u001b[0m)                │ (\u001b[38;5;45mNone\u001b[0m, \u001b[38;5;34m1\u001b[0m)              │           \u001b[38;5;34m129\u001b[0m │\n",
       "└─────────────────────────────────┴────────────────────────┴───────────────┘\n"
      ]
     },
     "metadata": {},
     "output_type": "display_data"
    },
    {
     "data": {
      "text/html": [
       "<pre style=\"white-space:pre;overflow-x:auto;line-height:normal;font-family:Menlo,'DejaVu Sans Mono',consolas,'Courier New',monospace\"><span style=\"font-weight: bold\"> Total params: </span><span style=\"color: #00af00; text-decoration-color: #00af00\">105,989</span> (414.02 KB)\n",
       "</pre>\n"
      ],
      "text/plain": [
       "\u001b[1m Total params: \u001b[0m\u001b[38;5;34m105,989\u001b[0m (414.02 KB)\n"
      ]
     },
     "metadata": {},
     "output_type": "display_data"
    },
    {
     "data": {
      "text/html": [
       "<pre style=\"white-space:pre;overflow-x:auto;line-height:normal;font-family:Menlo,'DejaVu Sans Mono',consolas,'Courier New',monospace\"><span style=\"font-weight: bold\"> Trainable params: </span><span style=\"color: #00af00; text-decoration-color: #00af00\">35,329</span> (138.00 KB)\n",
       "</pre>\n"
      ],
      "text/plain": [
       "\u001b[1m Trainable params: \u001b[0m\u001b[38;5;34m35,329\u001b[0m (138.00 KB)\n"
      ]
     },
     "metadata": {},
     "output_type": "display_data"
    },
    {
     "data": {
      "text/html": [
       "<pre style=\"white-space:pre;overflow-x:auto;line-height:normal;font-family:Menlo,'DejaVu Sans Mono',consolas,'Courier New',monospace\"><span style=\"font-weight: bold\"> Non-trainable params: </span><span style=\"color: #00af00; text-decoration-color: #00af00\">0</span> (0.00 B)\n",
       "</pre>\n"
      ],
      "text/plain": [
       "\u001b[1m Non-trainable params: \u001b[0m\u001b[38;5;34m0\u001b[0m (0.00 B)\n"
      ]
     },
     "metadata": {},
     "output_type": "display_data"
    },
    {
     "data": {
      "text/html": [
       "<pre style=\"white-space:pre;overflow-x:auto;line-height:normal;font-family:Menlo,'DejaVu Sans Mono',consolas,'Courier New',monospace\"><span style=\"font-weight: bold\"> Optimizer params: </span><span style=\"color: #00af00; text-decoration-color: #00af00\">70,660</span> (276.02 KB)\n",
       "</pre>\n"
      ],
      "text/plain": [
       "\u001b[1m Optimizer params: \u001b[0m\u001b[38;5;34m70,660\u001b[0m (276.02 KB)\n"
      ]
     },
     "metadata": {},
     "output_type": "display_data"
    }
   ],
   "source": [
    "best_model.summary()"
   ]
  },
  {
   "cell_type": "code",
   "execution_count": 11,
   "metadata": {},
   "outputs": [
    {
     "data": {
      "text/plain": [
       "{'name': 'adam',\n",
       " 'learning_rate': 1.2340990906523075e-05,\n",
       " 'weight_decay': None,\n",
       " 'clipnorm': None,\n",
       " 'global_clipnorm': None,\n",
       " 'clipvalue': None,\n",
       " 'use_ema': False,\n",
       " 'ema_momentum': 0.99,\n",
       " 'ema_overwrite_frequency': None,\n",
       " 'loss_scale_factor': None,\n",
       " 'gradient_accumulation_steps': None,\n",
       " 'beta_1': 0.9,\n",
       " 'beta_2': 0.999,\n",
       " 'epsilon': 1e-07,\n",
       " 'amsgrad': False}"
      ]
     },
     "execution_count": 11,
     "metadata": {},
     "output_type": "execute_result"
    }
   ],
   "source": [
    "config = best_model.optimizer.get_config()\n",
    "config"
   ]
  },
  {
   "cell_type": "code",
   "execution_count": null,
   "metadata": {},
   "outputs": [],
   "source": []
  },
  {
   "cell_type": "code",
   "execution_count": 19,
   "metadata": {},
   "outputs": [
    {
     "name": "stdout",
     "output_type": "stream",
     "text": [
      "Epoch 1/100\n",
      "\u001b[1m13/13\u001b[0m \u001b[32m━━━━━━━━━━━━━━━━━━━━\u001b[0m\u001b[37m\u001b[0m \u001b[1m2s\u001b[0m 32ms/step - loss: 2723954.0000 - mae: 1017.7076 - val_loss: 5329673.0000 - val_mae: 1403.5376\n",
      "Epoch 2/100\n",
      "\u001b[1m13/13\u001b[0m \u001b[32m━━━━━━━━━━━━━━━━━━━━\u001b[0m\u001b[37m\u001b[0m \u001b[1m0s\u001b[0m 12ms/step - loss: 4189061.2500 - mae: 1194.1843 - val_loss: 5329648.5000 - val_mae: 1403.6028\n",
      "Epoch 3/100\n",
      "\u001b[1m13/13\u001b[0m \u001b[32m━━━━━━━━━━━━━━━━━━━━\u001b[0m\u001b[37m\u001b[0m \u001b[1m0s\u001b[0m 15ms/step - loss: 3000559.5000 - mae: 1108.5912 - val_loss: 5330880.0000 - val_mae: 1403.6881\n",
      "Epoch 4/100\n",
      "\u001b[1m13/13\u001b[0m \u001b[32m━━━━━━━━━━━━━━━━━━━━\u001b[0m\u001b[37m\u001b[0m \u001b[1m0s\u001b[0m 12ms/step - loss: 2611310.5000 - mae: 1079.1671 - val_loss: 5330773.5000 - val_mae: 1403.5959\n",
      "Epoch 5/100\n",
      "\u001b[1m13/13\u001b[0m \u001b[32m━━━━━━━━━━━━━━━━━━━━\u001b[0m\u001b[37m\u001b[0m \u001b[1m0s\u001b[0m 12ms/step - loss: 2905488.5000 - mae: 1072.1152 - val_loss: 5329894.0000 - val_mae: 1403.5753\n",
      "Epoch 6/100\n",
      "\u001b[1m13/13\u001b[0m \u001b[32m━━━━━━━━━━━━━━━━━━━━\u001b[0m\u001b[37m\u001b[0m \u001b[1m0s\u001b[0m 13ms/step - loss: 3020534.0000 - mae: 1108.7520 - val_loss: 5330583.5000 - val_mae: 1403.4614\n",
      "Epoch 7/100\n",
      "\u001b[1m13/13\u001b[0m \u001b[32m━━━━━━━━━━━━━━━━━━━━\u001b[0m\u001b[37m\u001b[0m \u001b[1m0s\u001b[0m 11ms/step - loss: 2706760.7500 - mae: 1041.8864 - val_loss: 5330459.0000 - val_mae: 1403.4904\n",
      "Epoch 8/100\n",
      "\u001b[1m13/13\u001b[0m \u001b[32m━━━━━━━━━━━━━━━━━━━━\u001b[0m\u001b[37m\u001b[0m \u001b[1m0s\u001b[0m 11ms/step - loss: 2755698.5000 - mae: 1090.3773 - val_loss: 5330324.5000 - val_mae: 1403.5513\n",
      "Epoch 9/100\n",
      "\u001b[1m13/13\u001b[0m \u001b[32m━━━━━━━━━━━━━━━━━━━━\u001b[0m\u001b[37m\u001b[0m \u001b[1m0s\u001b[0m 13ms/step - loss: 2952189.2500 - mae: 1062.5132 - val_loss: 5329955.0000 - val_mae: 1403.5970\n",
      "Epoch 10/100\n",
      "\u001b[1m13/13\u001b[0m \u001b[32m━━━━━━━━━━━━━━━━━━━━\u001b[0m\u001b[37m\u001b[0m \u001b[1m0s\u001b[0m 12ms/step - loss: 3010192.0000 - mae: 1043.0955 - val_loss: 5330381.5000 - val_mae: 1403.5190\n",
      "Epoch 11/100\n",
      "\u001b[1m13/13\u001b[0m \u001b[32m━━━━━━━━━━━━━━━━━━━━\u001b[0m\u001b[37m\u001b[0m \u001b[1m0s\u001b[0m 11ms/step - loss: 2914829.5000 - mae: 1085.5098 - val_loss: 5330971.0000 - val_mae: 1403.4963\n",
      "Epoch 12/100\n",
      "\u001b[1m13/13\u001b[0m \u001b[32m━━━━━━━━━━━━━━━━━━━━\u001b[0m\u001b[37m\u001b[0m \u001b[1m0s\u001b[0m 12ms/step - loss: 2596901.7500 - mae: 1001.1534 - val_loss: 5330846.0000 - val_mae: 1403.5469\n",
      "\u001b[1m4/4\u001b[0m \u001b[32m━━━━━━━━━━━━━━━━━━━━\u001b[0m\u001b[37m\u001b[0m \u001b[1m0s\u001b[0m 27ms/step\n"
     ]
    }
   ],
   "source": [
    "# Treinamento com Early Stopping\n",
    "early_stopping = EarlyStopping(monitor='val_loss', patience=10, restore_best_weights=True)\n",
    "\n",
    "history = best_model.fit(\n",
    "    X_train_scaled, y_train,\n",
    "    validation_data=(X_test_scaled, y_test),\n",
    "    epochs=100,\n",
    "    batch_size=32,\n",
    "    callbacks=[early_stopping],\n",
    "    verbose=1\n",
    ")\n",
    "\n",
    "# Previsão dos valores de teste\n",
    "y_pred = best_model.predict(X_test_scaled).flatten()#"
   ]
  },
  {
   "cell_type": "code",
   "execution_count": 20,
   "metadata": {},
   "outputs": [
    {
     "name": "stdout",
     "output_type": "stream",
     "text": [
      "         Métricas de Avaliação          \n",
      "----------------------------------------\n",
      "MAE       : 1403.6027\n",
      "RMSE      : 2308.6031\n",
      "R²        : 0.8061\n",
      "----------------------------------------\n"
     ]
    }
   ],
   "source": [
    "# Calculando as métricas\n",
    "mae = mean_absolute_error(y_test, y_pred)\n",
    "rmse = np.sqrt(mean_squared_error(y_test, y_pred))\n",
    "r2 = r2_score(y_test, y_pred)\n",
    "\n",
    "# Exibindo as métricas de forma mais bonita\n",
    "print(f\"{'Métricas de Avaliação':^40}\")\n",
    "print(f\"{'-'*40}\")\n",
    "print(f\"{'MAE':<10}: {mae:.4f}\")\n",
    "print(f\"{'RMSE':<10}: {rmse:.4f}\")\n",
    "print(f\"{'R²':<10}: {r2:.4f}\")\n",
    "print(f\"{'-'*40}\")\n",
    "\n",
    "#         Métricas de Avaliação          \n",
    "#----------------------------------------\n",
    "# MAE       : 1354.7818\n",
    "# RMSE      : 2117.7866\n",
    "# R²        : 0.8369\n",
    "#----------------------------------------\n",
    "\n",
    "#          Métricas de Avaliação          \n",
    "# ----------------------------------------\n",
    "# MAE       : 1403.3598\n",
    "# RMSE      : 2308.7338\n",
    "# R²        : 0.8061\n",
    "# ----------------------------------------"
   ]
  },
  {
   "cell_type": "code",
   "execution_count": null,
   "metadata": {},
   "outputs": [],
   "source": [
    "results_dict = {\n",
    "    \"Algoritmo\": [],\n",
    "    \"MAE\": [],\n",
    "    \"RMSE\": [],\n",
    "    \"R2\": [],\n",
    "    \"MAPE\": [],\n",
    "}\n",
    "\n",
    "# Preenchendo o dicionário\n",
    "for mae, rmse, r2, mape, model in results:\n",
    "    results_dict[\"Algoritmo\"].append(\"RedeNeural\")\n",
    "    results_dict[\"MAE\"].append(mae)\n",
    "    results_dict[\"RMSE\"].append(rmse)\n",
    "    results_dict[\"R2\"].append(r2)\n",
    "    results_dict[\"MAPE\"].append(mape)\n",
    "\n",
    "df = pd.DataFrame(results_dict)\n",
    "df_melted = df.melt(id_vars=[\"Algoritmo\"], \n",
    "                    var_name=\"Métrica\", \n",
    "                    value_name=\"Valor\")\n",
    "\n",
    "\n"
   ]
  }
 ],
 "metadata": {
  "kernelspec": {
   "display_name": "venv_rn",
   "language": "python",
   "name": "python3"
  },
  "language_info": {
   "codemirror_mode": {
    "name": "ipython",
    "version": 3
   },
   "file_extension": ".py",
   "mimetype": "text/x-python",
   "name": "python",
   "nbconvert_exporter": "python",
   "pygments_lexer": "ipython3",
   "version": "3.10.8"
  }
 },
 "nbformat": 4,
 "nbformat_minor": 2
}
