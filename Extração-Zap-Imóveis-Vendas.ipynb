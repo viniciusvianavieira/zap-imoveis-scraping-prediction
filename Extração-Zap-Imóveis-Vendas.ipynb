{
 "cells": [
  {
   "cell_type": "code",
   "execution_count": 1,
   "metadata": {},
   "outputs": [],
   "source": [
    "import json\n",
    "import numpy as np \n",
    "import pandas as pd\n",
    "from loguru import logger\n",
    "from modules import _get_driver_webscraping, _get_headers_webscraping, _number_of_pages, _get_html_with_many_cards, _read_results_parquet, _apply_functions_in_parallel_to_webscraping, _read_json_file, _extract_data_in_html_for_page_with_many_cards, _get_html_especifc_for_wich_property, _transform_data_to_dataframe"
   ]
  },
  {
   "cell_type": "code",
   "execution_count": 5,
   "metadata": {},
   "outputs": [],
   "source": [
    "base_url = 'https://www.zapimoveis.com.br'\n",
    "transaction = \"venda\"\n",
    "type = \"imoveis\"\n",
    "local = \"rj+rio-de-janeiro\""
   ]
  },
  {
   "cell_type": "code",
   "execution_count": 6,
   "metadata": {},
   "outputs": [
    {
     "name": "stdout",
     "output_type": "stream",
     "text": [
      "{\n",
      "    \"Parametros\": {\n",
      "        \"Transacao\": \"venda\",\n",
      "        \"Tipo\": \"imoveis\",\n",
      "        \"Local\": \"rj+rio-de-janeiro\"\n",
      "    },\n",
      "    \"Requisicao\": {\n",
      "        \"Status\": true\n",
      "    },\n",
      "    \"Imoveis\": 256990,\n",
      "    \"Paginas\": 2569\n",
      "}\n"
     ]
    }
   ],
   "source": [
    "#number_of_pages = _number_of_pages(base_url, transaction, type, local)\n",
    "#print(number_of_pages)\n",
    "\n",
    "number_of_pages = {'Parametros': {'Transacao': 'venda', 'Tipo': 'imoveis', 'Local': 'rj+rio-de-janeiro'}, 'Requisicao': {'Status': True}, 'Imoveis': 256990, 'Paginas': 2569}\n",
    "print(json.dumps(number_of_pages, indent=4))"
   ]
  },
  {
   "cell_type": "code",
   "execution_count": 7,
   "metadata": {},
   "outputs": [],
   "source": [
    "#list_use_in_function = list(range(1, 3))\n",
    "#function_to_apply = _get_html_with_many_cards\n",
    "#name_file = 'urls_imoveis'\n",
    "#workers = 3\n",
    "#args = [base_url, transaction, type, local]\n",
    "\n",
    "#info_pages, erro_pages = _apply_functions_in_parallel_to_webscraping(list_use_in_function=list_use_in_function, function_to_apply=function_to_apply, name_file=name_file, key_name=\"url\", workers=workers, args=args)\n",
    "#info_pages, erro_pages"
   ]
  },
  {
   "cell_type": "code",
   "execution_count": 8,
   "metadata": {},
   "outputs": [
    {
     "ename": "KeyboardInterrupt",
     "evalue": "",
     "output_type": "error",
     "traceback": [
      "\u001b[1;31m---------------------------------------------------------------------------\u001b[0m",
      "\u001b[1;31mKeyboardInterrupt\u001b[0m                         Traceback (most recent call last)",
      "Cell \u001b[1;32mIn[8], line 4\u001b[0m\n\u001b[0;32m      1\u001b[0m \u001b[38;5;66;03m# with zipfile.ZipFile('data.zip', 'r') as zip_ref:\u001b[39;00m\n\u001b[0;32m      2\u001b[0m \u001b[38;5;66;03m#     zip_ref.extractall()\u001b[39;00m\n\u001b[1;32m----> 4\u001b[0m dados_lista \u001b[38;5;241m=\u001b[39m \u001b[43m_read_json_file\u001b[49m\u001b[43m(\u001b[49m\u001b[38;5;124;43m'\u001b[39;49m\u001b[38;5;124;43mdata/url_imoveis.json\u001b[39;49m\u001b[38;5;124;43m'\u001b[39;49m\u001b[43m)\u001b[49m\n\u001b[0;32m      5\u001b[0m logger\u001b[38;5;241m.\u001b[39minfo(\u001b[38;5;124mf\u001b[39m\u001b[38;5;124m\"\u001b[39m\u001b[38;5;124mDados Listas Processados: \u001b[39m\u001b[38;5;132;01m{\u001b[39;00m\u001b[38;5;28mlen\u001b[39m(dados_lista)\u001b[38;5;132;01m}\u001b[39;00m\u001b[38;5;124m\"\u001b[39m)\n",
      "File \u001b[1;32mc:\\Users\\FVF0\\OneDrive - PETROBRAS\\Dev\\zap-imoveis-scraping-prediction\\modules.py:210\u001b[0m, in \u001b[0;36m_read_json_file\u001b[1;34m(file_name)\u001b[0m\n\u001b[0;32m    209\u001b[0m \u001b[38;5;28;01mdef\u001b[39;00m \u001b[38;5;21m_read_json_file\u001b[39m(file_name):\n\u001b[1;32m--> 210\u001b[0m     \u001b[38;5;28;01mwith\u001b[39;00m \u001b[38;5;28;43mopen\u001b[39;49m\u001b[43m(\u001b[49m\u001b[43mfile_name\u001b[49m\u001b[43m,\u001b[49m\u001b[43m \u001b[49m\u001b[38;5;124;43m\"\u001b[39;49m\u001b[38;5;124;43mr\u001b[39;49m\u001b[38;5;124;43m\"\u001b[39;49m\u001b[43m)\u001b[49m \u001b[38;5;28;01mas\u001b[39;00m f:\n\u001b[0;32m    211\u001b[0m         \u001b[38;5;28;01mtry\u001b[39;00m:\n\u001b[0;32m    212\u001b[0m             data_list \u001b[38;5;241m=\u001b[39m json\u001b[38;5;241m.\u001b[39mload(f)  \u001b[38;5;66;03m# Carrega o conteúdo diretamente\u001b[39;00m\n",
      "File \u001b[1;32m<frozen codecs>:263\u001b[0m, in \u001b[0;36m__init__\u001b[1;34m(self, errors)\u001b[0m\n",
      "\u001b[1;31mKeyboardInterrupt\u001b[0m: "
     ]
    }
   ],
   "source": [
    "# with zipfile.ZipFile('data.zip', 'r') as zip_ref:\n",
    "#     zip_ref.extractall()\n",
    "\n",
    "dados_lista = _read_json_file('data/url_imoveis.json')\n",
    "logger.info(f\"Dados Listas Processados: {len(dados_lista)}\")"
   ]
  },
  {
   "cell_type": "code",
   "execution_count": 5,
   "metadata": {},
   "outputs": [
    {
     "name": "stdout",
     "output_type": "stream",
     "text": [
      "(8578, 9)\n"
     ]
    },
    {
     "data": {
      "text/html": [
       "<div>\n",
       "<style scoped>\n",
       "    .dataframe tbody tr th:only-of-type {\n",
       "        vertical-align: middle;\n",
       "    }\n",
       "\n",
       "    .dataframe tbody tr th {\n",
       "        vertical-align: top;\n",
       "    }\n",
       "\n",
       "    .dataframe thead th {\n",
       "        text-align: right;\n",
       "    }\n",
       "</style>\n",
       "<table border=\"1\" class=\"dataframe\">\n",
       "  <thead>\n",
       "    <tr style=\"text-align: right;\">\n",
       "      <th></th>\n",
       "      <th>pagina</th>\n",
       "      <th>anuncio_pagina</th>\n",
       "      <th>id_imovel</th>\n",
       "      <th>url_imovel</th>\n",
       "      <th>destaque</th>\n",
       "      <th>bairro</th>\n",
       "      <th>endereco</th>\n",
       "      <th>descricao</th>\n",
       "      <th>data_completa</th>\n",
       "    </tr>\n",
       "  </thead>\n",
       "  <tbody>\n",
       "    <tr>\n",
       "      <th>0</th>\n",
       "      <td>0</td>\n",
       "      <td>0</td>\n",
       "      <td>2734881772</td>\n",
       "      <td>https://www.zapimoveis.com.br/imovel/venda-apa...</td>\n",
       "      <td>Super Destaque</td>\n",
       "      <td>Copacabana, Rio de Janeiro</td>\n",
       "      <td>Rua Dias da Rocha</td>\n",
       "      <td>Apartamento à venda original com 3 quartos com...</td>\n",
       "      <td>2024-11-12</td>\n",
       "    </tr>\n",
       "    <tr>\n",
       "      <th>1</th>\n",
       "      <td>0</td>\n",
       "      <td>1</td>\n",
       "      <td>2460272791</td>\n",
       "      <td>https://www.zapimoveis.com.br/lancamento/venda...</td>\n",
       "      <td>Pronto para morar</td>\n",
       "      <td>Botafogo, Rio de Janeiro</td>\n",
       "      <td>Rua Ministro Raul Fernandes</td>\n",
       "      <td>A TRANQUILIDADE NO CORAÇÃO DE BOTAFOGO!\\nAPENA...</td>\n",
       "      <td>2024-11-12</td>\n",
       "    </tr>\n",
       "    <tr>\n",
       "      <th>2</th>\n",
       "      <td>0</td>\n",
       "      <td>2</td>\n",
       "      <td>2753248608</td>\n",
       "      <td>https://www.zapimoveis.com.br/imovel/venda-apa...</td>\n",
       "      <td>Super Destaque</td>\n",
       "      <td>Recreio dos Bandeirantes, Rio de Janeiro</td>\n",
       "      <td>Rua Luiz Carlos Sarolli</td>\n",
       "      <td>Apartamento à Venda - 2 Quartos no Recreio dos...</td>\n",
       "      <td>2024-11-12</td>\n",
       "    </tr>\n",
       "    <tr>\n",
       "      <th>3</th>\n",
       "      <td>0</td>\n",
       "      <td>3</td>\n",
       "      <td>2750528798</td>\n",
       "      <td>https://www.zapimoveis.com.br/imovel/venda-apa...</td>\n",
       "      <td>Super Destaque</td>\n",
       "      <td>Leblon, Rio de Janeiro</td>\n",
       "      <td>Rua Alberto de Faria</td>\n",
       "      <td>Apartamento á venda em Leblon 307m2-São 4 quar...</td>\n",
       "      <td>2024-11-12</td>\n",
       "    </tr>\n",
       "    <tr>\n",
       "      <th>4</th>\n",
       "      <td>0</td>\n",
       "      <td>4</td>\n",
       "      <td>2573819798</td>\n",
       "      <td>https://www.zapimoveis.com.br/imovel/venda-apa...</td>\n",
       "      <td>NaN</td>\n",
       "      <td>Quintino Bocaiúva, Rio de Janeiro</td>\n",
       "      <td>Rua da República</td>\n",
       "      <td>-Cod:PPAP20178 -Rev.08Nov</td>\n",
       "      <td>2024-11-12</td>\n",
       "    </tr>\n",
       "  </tbody>\n",
       "</table>\n",
       "</div>"
      ],
      "text/plain": [
       "   pagina  anuncio_pagina   id_imovel  \\\n",
       "0       0               0  2734881772   \n",
       "1       0               1  2460272791   \n",
       "2       0               2  2753248608   \n",
       "3       0               3  2750528798   \n",
       "4       0               4  2573819798   \n",
       "\n",
       "                                          url_imovel           destaque  \\\n",
       "0  https://www.zapimoveis.com.br/imovel/venda-apa...     Super Destaque   \n",
       "1  https://www.zapimoveis.com.br/lancamento/venda...  Pronto para morar   \n",
       "2  https://www.zapimoveis.com.br/imovel/venda-apa...     Super Destaque   \n",
       "3  https://www.zapimoveis.com.br/imovel/venda-apa...     Super Destaque   \n",
       "4  https://www.zapimoveis.com.br/imovel/venda-apa...                NaN   \n",
       "\n",
       "                                     bairro                     endereco  \\\n",
       "0                Copacabana, Rio de Janeiro            Rua Dias da Rocha   \n",
       "1                  Botafogo, Rio de Janeiro  Rua Ministro Raul Fernandes   \n",
       "2  Recreio dos Bandeirantes, Rio de Janeiro      Rua Luiz Carlos Sarolli   \n",
       "3                    Leblon, Rio de Janeiro         Rua Alberto de Faria   \n",
       "4         Quintino Bocaiúva, Rio de Janeiro             Rua da República   \n",
       "\n",
       "                                           descricao data_completa  \n",
       "0  Apartamento à venda original com 3 quartos com...    2024-11-12  \n",
       "1  A TRANQUILIDADE NO CORAÇÃO DE BOTAFOGO!\\nAPENA...    2024-11-12  \n",
       "2  Apartamento à Venda - 2 Quartos no Recreio dos...    2024-11-12  \n",
       "3  Apartamento á venda em Leblon 307m2-São 4 quar...    2024-11-12  \n",
       "4                          -Cod:PPAP20178 -Rev.08Nov    2024-11-12  "
      ]
     },
     "execution_count": 5,
     "metadata": {},
     "output_type": "execute_result"
    }
   ],
   "source": [
    "dataframe_urls = _extract_data_in_html_for_page_with_many_cards(dados_lista)\n",
    "dataframe_urls = dataframe_urls.dropna(subset=['url_imovel'])\n",
    "print(dataframe_urls.shape)\n",
    "dataframe_urls.head()"
   ]
  },
  {
   "cell_type": "code",
   "execution_count": 6,
   "metadata": {},
   "outputs": [
    {
     "name": "stderr",
     "output_type": "stream",
     "text": [
      "\u001b[32m2024-11-12 11:19:27.915\u001b[0m | \u001b[32m\u001b[1mSUCCESS \u001b[0m | \u001b[36m__main__\u001b[0m:\u001b[36m<module>\u001b[0m:\u001b[36m2\u001b[0m - \u001b[32m\u001b[1mURLs Processadas: 8578\u001b[0m\n"
     ]
    }
   ],
   "source": [
    "urls_de_imoveis = dataframe_urls['url_imovel'].to_list()\n",
    "logger.success(f\"URLs Processadas: {len(urls_de_imoveis)}\")"
   ]
  },
  {
   "cell_type": "code",
   "execution_count": 9,
   "metadata": {},
   "outputs": [
    {
     "name": "stdout",
     "output_type": "stream",
     "text": [
      "[]\n"
     ]
    },
    {
     "name": "stderr",
     "output_type": "stream",
     "text": [
      "Processando funções:   0%|          | 1/8578 [00:17<40:50:21, 17.14s/it]"
     ]
    },
    {
     "name": "stdout",
     "output_type": "stream",
     "text": [
      "Erro na página https://www.zapimoveis.com.br/imovel/venda-apartamento-3-quartos-com-varanda-copacabana-zona-sul-rio-de-janeiro-rj-100m2-id-2734881772/: File is not a zip file\n"
     ]
    }
   ],
   "source": [
    "# list_use_in_function = urls_de_imoveis\n",
    "# function_to_apply = _get_html_especifc_for_wich_property\n",
    "# name_file = 'caracteristicas_imoveis'\n",
    "# workers = 3\n",
    "# args = []\n",
    "\n",
    "# info_pages, erro_pages = _apply_functions_in_parallel_to_webscraping(list_use_in_function=list_use_in_function, function_to_apply=function_to_apply, name_file=name_file, key_name=\"url\", workers=workers, args=args)\n",
    "# info_pages, erro_pages"
   ]
  },
  {
   "cell_type": "code",
   "execution_count": 2,
   "metadata": {},
   "outputs": [
    {
     "name": "stderr",
     "output_type": "stream",
     "text": [
      "\u001b[32m2024-11-14 12:25:53.134\u001b[0m | \u001b[32m\u001b[1mSUCCESS \u001b[0m | \u001b[36m__main__\u001b[0m:\u001b[36m<module>\u001b[0m:\u001b[36m2\u001b[0m - \u001b[32m\u001b[1mInformações dos Imóveis Processadas: 8578\u001b[0m\n"
     ]
    }
   ],
   "source": [
    "lista_informacoes_imoveis, erros_imoveis = _read_results_parquet(key_name=\"url_imovel\", name_file=\"caracteristicas_imoveis_venda\")\n",
    "logger.success(f\"Informações dos Imóveis Processadas: {len(lista_informacoes_imoveis)}\")"
   ]
  },
  {
   "cell_type": "code",
   "execution_count": 3,
   "metadata": {},
   "outputs": [
    {
     "name": "stdout",
     "output_type": "stream",
     "text": [
      "(8578, 17)\n"
     ]
    },
    {
     "data": {
      "text/html": [
       "<div>\n",
       "<style scoped>\n",
       "    .dataframe tbody tr th:only-of-type {\n",
       "        vertical-align: middle;\n",
       "    }\n",
       "\n",
       "    .dataframe tbody tr th {\n",
       "        vertical-align: top;\n",
       "    }\n",
       "\n",
       "    .dataframe thead th {\n",
       "        text-align: right;\n",
       "    }\n",
       "</style>\n",
       "<table border=\"1\" class=\"dataframe\">\n",
       "  <thead>\n",
       "    <tr style=\"text-align: right;\">\n",
       "      <th></th>\n",
       "      <th>url</th>\n",
       "      <th>endereco</th>\n",
       "      <th>preco</th>\n",
       "      <th>area</th>\n",
       "      <th>andar</th>\n",
       "      <th>quartos</th>\n",
       "      <th>suites</th>\n",
       "      <th>vagas_de_carro</th>\n",
       "      <th>valor_condominio</th>\n",
       "      <th>iptu</th>\n",
       "      <th>mobiliado</th>\n",
       "      <th>piscina</th>\n",
       "      <th>condominio</th>\n",
       "      <th>elevador</th>\n",
       "      <th>jardim</th>\n",
       "      <th>quadra_esportiva</th>\n",
       "      <th>academia</th>\n",
       "    </tr>\n",
       "  </thead>\n",
       "  <tbody>\n",
       "    <tr>\n",
       "      <th>0</th>\n",
       "      <td>https://www.zapimoveis.com.br/imovel/venda-apa...</td>\n",
       "      <td>Rua Luiz Carlos Sarolli, 2021 - Recreio Dos Ba...</td>\n",
       "      <td>510000.0</td>\n",
       "      <td>61.0</td>\n",
       "      <td>2.0</td>\n",
       "      <td>2.0</td>\n",
       "      <td>1.0</td>\n",
       "      <td>1.0</td>\n",
       "      <td>900.0</td>\n",
       "      <td>1200.0</td>\n",
       "      <td>False</td>\n",
       "      <td>True</td>\n",
       "      <td>True</td>\n",
       "      <td>True</td>\n",
       "      <td>True</td>\n",
       "      <td>True</td>\n",
       "      <td>True</td>\n",
       "    </tr>\n",
       "    <tr>\n",
       "      <th>1</th>\n",
       "      <td>https://www.zapimoveis.com.br/imovel/venda-apa...</td>\n",
       "      <td>Rua Dias da Rocha - Copacabana, Rio de Janeiro...</td>\n",
       "      <td>895000.0</td>\n",
       "      <td>100.0</td>\n",
       "      <td>2.0</td>\n",
       "      <td>3.0</td>\n",
       "      <td>NaN</td>\n",
       "      <td>1.0</td>\n",
       "      <td>2154.0</td>\n",
       "      <td>NaN</td>\n",
       "      <td>False</td>\n",
       "      <td>False</td>\n",
       "      <td>False</td>\n",
       "      <td>False</td>\n",
       "      <td>False</td>\n",
       "      <td>False</td>\n",
       "      <td>False</td>\n",
       "    </tr>\n",
       "    <tr>\n",
       "      <th>2</th>\n",
       "      <td>https://www.zapimoveis.com.br/lancamento/venda...</td>\n",
       "      <td>Rua Ministro Raul Fernandes - Botafogo, Rio de...</td>\n",
       "      <td>NaN</td>\n",
       "      <td>105.0</td>\n",
       "      <td>NaN</td>\n",
       "      <td>NaN</td>\n",
       "      <td>NaN</td>\n",
       "      <td>NaN</td>\n",
       "      <td>NaN</td>\n",
       "      <td>NaN</td>\n",
       "      <td>False</td>\n",
       "      <td>False</td>\n",
       "      <td>False</td>\n",
       "      <td>False</td>\n",
       "      <td>False</td>\n",
       "      <td>False</td>\n",
       "      <td>False</td>\n",
       "    </tr>\n",
       "    <tr>\n",
       "      <th>3</th>\n",
       "      <td>https://www.zapimoveis.com.br/imovel/venda-apa...</td>\n",
       "      <td>Rua Alberto de Faria - Leblon, Rio de Janeiro ...</td>\n",
       "      <td>5800000.0</td>\n",
       "      <td>307.0</td>\n",
       "      <td>2.0</td>\n",
       "      <td>4.0</td>\n",
       "      <td>2.0</td>\n",
       "      <td>3.0</td>\n",
       "      <td>2700.0</td>\n",
       "      <td>1300.0</td>\n",
       "      <td>False</td>\n",
       "      <td>False</td>\n",
       "      <td>False</td>\n",
       "      <td>False</td>\n",
       "      <td>False</td>\n",
       "      <td>False</td>\n",
       "      <td>False</td>\n",
       "    </tr>\n",
       "    <tr>\n",
       "      <th>4</th>\n",
       "      <td>https://www.zapimoveis.com.br/imovel/venda-apa...</td>\n",
       "      <td>Rua Ana Silva, 272 - Pechincha, Rio de Janeiro...</td>\n",
       "      <td>399000.0</td>\n",
       "      <td>54.0</td>\n",
       "      <td>NaN</td>\n",
       "      <td>2.0</td>\n",
       "      <td>1.0</td>\n",
       "      <td>5.0</td>\n",
       "      <td>NaN</td>\n",
       "      <td>NaN</td>\n",
       "      <td>False</td>\n",
       "      <td>True</td>\n",
       "      <td>True</td>\n",
       "      <td>True</td>\n",
       "      <td>True</td>\n",
       "      <td>False</td>\n",
       "      <td>True</td>\n",
       "    </tr>\n",
       "  </tbody>\n",
       "</table>\n",
       "</div>"
      ],
      "text/plain": [
       "                                                 url  \\\n",
       "0  https://www.zapimoveis.com.br/imovel/venda-apa...   \n",
       "1  https://www.zapimoveis.com.br/imovel/venda-apa...   \n",
       "2  https://www.zapimoveis.com.br/lancamento/venda...   \n",
       "3  https://www.zapimoveis.com.br/imovel/venda-apa...   \n",
       "4  https://www.zapimoveis.com.br/imovel/venda-apa...   \n",
       "\n",
       "                                            endereco      preco   area  andar  \\\n",
       "0  Rua Luiz Carlos Sarolli, 2021 - Recreio Dos Ba...   510000.0   61.0    2.0   \n",
       "1  Rua Dias da Rocha - Copacabana, Rio de Janeiro...   895000.0  100.0    2.0   \n",
       "2  Rua Ministro Raul Fernandes - Botafogo, Rio de...        NaN  105.0    NaN   \n",
       "3  Rua Alberto de Faria - Leblon, Rio de Janeiro ...  5800000.0  307.0    2.0   \n",
       "4  Rua Ana Silva, 272 - Pechincha, Rio de Janeiro...   399000.0   54.0    NaN   \n",
       "\n",
       "   quartos  suites  vagas_de_carro  valor_condominio    iptu  mobiliado  \\\n",
       "0      2.0     1.0             1.0             900.0  1200.0      False   \n",
       "1      3.0     NaN             1.0            2154.0     NaN      False   \n",
       "2      NaN     NaN             NaN               NaN     NaN      False   \n",
       "3      4.0     2.0             3.0            2700.0  1300.0      False   \n",
       "4      2.0     1.0             5.0               NaN     NaN      False   \n",
       "\n",
       "   piscina  condominio  elevador  jardim  quadra_esportiva  academia  \n",
       "0     True        True      True    True              True      True  \n",
       "1    False       False     False   False             False     False  \n",
       "2    False       False     False   False             False     False  \n",
       "3    False       False     False   False             False     False  \n",
       "4     True        True      True    True             False      True  "
      ]
     },
     "execution_count": 3,
     "metadata": {},
     "output_type": "execute_result"
    }
   ],
   "source": [
    "dataframe_imoveis_tratado = _transform_data_to_dataframe(lista_informacoes_imoveis)\n",
    "\n",
    "print(dataframe_imoveis_tratado.shape)\n",
    "dataframe_imoveis_tratado.head()"
   ]
  },
  {
   "cell_type": "code",
   "execution_count": 6,
   "metadata": {},
   "outputs": [],
   "source": [
    "dataframe_imoveis_tratado.to_parquet('dataframe_imoveis_venda_tratados.parquet', index=False)"
   ]
  }
 ],
 "metadata": {
  "kernelspec": {
   "display_name": "venv",
   "language": "python",
   "name": "python3"
  },
  "language_info": {
   "codemirror_mode": {
    "name": "ipython",
    "version": 3
   },
   "file_extension": ".py",
   "mimetype": "text/x-python",
   "name": "python",
   "nbconvert_exporter": "python",
   "pygments_lexer": "ipython3",
   "version": "3.13.0"
  }
 },
 "nbformat": 4,
 "nbformat_minor": 2
}
