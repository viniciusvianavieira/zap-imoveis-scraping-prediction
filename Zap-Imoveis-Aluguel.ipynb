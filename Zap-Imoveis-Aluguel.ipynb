{
 "cells": [
  {
   "cell_type": "code",
   "execution_count": 1,
   "metadata": {},
   "outputs": [],
   "source": [
    "import json\n",
    "import numpy as np \n",
    "import pandas as pd\n",
    "from loguru import logger\n",
    "from modules import _get_driver_webscraping, _get_headers_webscraping, _number_of_pages, _get_html_with_many_cards, _read_results_parquet, _apply_functions_in_parallel_to_webscraping, _read_json_file, _extract_data_in_html_for_page_with_many_cards, _get_html_especifc_for_wich_property, _transform_data_to_dataframe"
   ]
  },
  {
   "cell_type": "code",
   "execution_count": 2,
   "metadata": {},
   "outputs": [],
   "source": [
    "base_url = 'https://www.zapimoveis.com.br'\n",
    "transaction = \"aluguel\"\n",
    "type = \"imoveis\"\n",
    "local = \"rj+rio-de-janeiro\""
   ]
  },
  {
   "cell_type": "code",
   "execution_count": 3,
   "metadata": {},
   "outputs": [
    {
     "name": "stdout",
     "output_type": "stream",
     "text": [
      "{\n",
      "    \"Parametros\": {\n",
      "        \"Transacao\": \"aluguel\",\n",
      "        \"Tipo\": \"imoveis\",\n",
      "        \"Local\": \"rj+rio-de-janeiro\"\n",
      "    },\n",
      "    \"Requisicao\": {\n",
      "        \"Status\": true\n",
      "    },\n",
      "    \"Imoveis\": 26981,\n",
      "    \"Paginas\": 269\n",
      "}\n"
     ]
    }
   ],
   "source": [
    "# number_of_pages = _number_of_pages(base_url, transaction, type, local)\n",
    "# print(number_of_pages)\n",
    "\n",
    "number_of_pages = {'Parametros': {'Transacao': 'aluguel', 'Tipo': 'imoveis', 'Local': 'rj+rio-de-janeiro'}, 'Requisicao': {'Status': True}, 'Imoveis': 26981, 'Paginas': 269}\n",
    "number_of_pages = json.dumps(number_of_pages, indent=4)\n",
    "print(number_of_pages)\n"
   ]
  },
  {
   "cell_type": "code",
   "execution_count": 1,
   "metadata": {},
   "outputs": [],
   "source": [
    "# list_use_in_function = list(range(1, 269))\n",
    "# function_to_apply = _get_html_with_many_cards\n",
    "# name_file = 'urls_imoveis_aluguel'\n",
    "# workers = 3\n",
    "# args = [base_url, transaction, type, local]\n",
    "\n",
    "# info_pages, erro_pages = _apply_functions_in_parallel_to_webscraping(list_use_in_function=list_use_in_function, function_to_apply=function_to_apply, name_file=name_file, key_name=\"url\", workers=workers, args=args)\n",
    "# info_pages, erro_pages"
   ]
  },
  {
   "cell_type": "code",
   "execution_count": 3,
   "metadata": {},
   "outputs": [
    {
     "name": "stderr",
     "output_type": "stream",
     "text": [
      "\u001b[32m2024-11-13 07:11:32.148\u001b[0m | \u001b[32m\u001b[1mSUCCESS \u001b[0m | \u001b[36m__main__\u001b[0m:\u001b[36m<module>\u001b[0m:\u001b[36m2\u001b[0m - \u001b[32m\u001b[1mInformações dos Imóveis Processadas: 268\u001b[0m\n"
     ]
    }
   ],
   "source": [
    "lista_informacoes_imoveis, erros_imoveis = _read_results_parquet(key_name=\"url\", name_file=\"urls_imoveis_aluguel\")\n",
    "logger.success(f\"Informações dos Imóveis Processadas: {len(lista_informacoes_imoveis)}\")"
   ]
  },
  {
   "cell_type": "code",
   "execution_count": 4,
   "metadata": {},
   "outputs": [
    {
     "name": "stdout",
     "output_type": "stream",
     "text": [
      "(10064, 9)\n"
     ]
    },
    {
     "data": {
      "text/html": [
       "<div>\n",
       "<style scoped>\n",
       "    .dataframe tbody tr th:only-of-type {\n",
       "        vertical-align: middle;\n",
       "    }\n",
       "\n",
       "    .dataframe tbody tr th {\n",
       "        vertical-align: top;\n",
       "    }\n",
       "\n",
       "    .dataframe thead th {\n",
       "        text-align: right;\n",
       "    }\n",
       "</style>\n",
       "<table border=\"1\" class=\"dataframe\">\n",
       "  <thead>\n",
       "    <tr style=\"text-align: right;\">\n",
       "      <th></th>\n",
       "      <th>pagina</th>\n",
       "      <th>anuncio_pagina</th>\n",
       "      <th>id_imovel</th>\n",
       "      <th>url_imovel</th>\n",
       "      <th>destaque</th>\n",
       "      <th>bairro</th>\n",
       "      <th>endereco</th>\n",
       "      <th>descricao</th>\n",
       "      <th>data_completa</th>\n",
       "    </tr>\n",
       "  </thead>\n",
       "  <tbody>\n",
       "    <tr>\n",
       "      <th>0</th>\n",
       "      <td>0</td>\n",
       "      <td>0</td>\n",
       "      <td>2741566013</td>\n",
       "      <td>https://www.zapimoveis.com.br/imovel/aluguel-c...</td>\n",
       "      <td>Super Destaque</td>\n",
       "      <td>Laranjeiras, Rio de Janeiro</td>\n",
       "      <td>Rua Alice</td>\n",
       "      <td>Aliança Viva aluga: Casa na Rua Alice, em Lara...</td>\n",
       "      <td>2024-11-13</td>\n",
       "    </tr>\n",
       "    <tr>\n",
       "      <th>1</th>\n",
       "      <td>0</td>\n",
       "      <td>1</td>\n",
       "      <td>2729441818</td>\n",
       "      <td>https://www.zapimoveis.com.br/imovel/aluguel-l...</td>\n",
       "      <td>Super Destaque</td>\n",
       "      <td>Barra da Tijuca, Rio de Janeiro</td>\n",
       "      <td>Avenida das Américas</td>\n",
       "      <td>Ótima oportunidade para quem busca um espaço c...</td>\n",
       "      <td>2024-11-13</td>\n",
       "    </tr>\n",
       "    <tr>\n",
       "      <th>2</th>\n",
       "      <td>0</td>\n",
       "      <td>2</td>\n",
       "      <td>2750169530</td>\n",
       "      <td>https://www.zapimoveis.com.br/imovel/aluguel-a...</td>\n",
       "      <td>Super Destaque</td>\n",
       "      <td>Lagoa, Rio de Janeiro</td>\n",
       "      <td>Avenida Epitácio Pessoa</td>\n",
       "      <td>(Código: 36354, Avenida Epitácio Pessoa) - Loc...</td>\n",
       "      <td>2024-11-13</td>\n",
       "    </tr>\n",
       "    <tr>\n",
       "      <th>3</th>\n",
       "      <td>0</td>\n",
       "      <td>3</td>\n",
       "      <td>2755807416</td>\n",
       "      <td>https://www.zapimoveis.com.br/imovel/aluguel-c...</td>\n",
       "      <td>Destaque</td>\n",
       "      <td>Copacabana, Rio de Janeiro</td>\n",
       "      <td>Rua Francisco Sá</td>\n",
       "      <td>Monte seu consultório/sala de pilates AQUI!\\n\\...</td>\n",
       "      <td>2024-11-13</td>\n",
       "    </tr>\n",
       "    <tr>\n",
       "      <th>5</th>\n",
       "      <td>0</td>\n",
       "      <td>5</td>\n",
       "      <td>2750819430</td>\n",
       "      <td>https://www.zapimoveis.com.br/imovel/venda-and...</td>\n",
       "      <td>NaN</td>\n",
       "      <td>Centro, Rio de Janeiro</td>\n",
       "      <td>Avenida Marechal Floriano</td>\n",
       "      <td>Centro, RJ. Conjunto comercial medindo aproxim...</td>\n",
       "      <td>2024-11-13</td>\n",
       "    </tr>\n",
       "  </tbody>\n",
       "</table>\n",
       "</div>"
      ],
      "text/plain": [
       "   pagina  anuncio_pagina   id_imovel  \\\n",
       "0       0               0  2741566013   \n",
       "1       0               1  2729441818   \n",
       "2       0               2  2750169530   \n",
       "3       0               3  2755807416   \n",
       "5       0               5  2750819430   \n",
       "\n",
       "                                          url_imovel        destaque  \\\n",
       "0  https://www.zapimoveis.com.br/imovel/aluguel-c...  Super Destaque   \n",
       "1  https://www.zapimoveis.com.br/imovel/aluguel-l...  Super Destaque   \n",
       "2  https://www.zapimoveis.com.br/imovel/aluguel-a...  Super Destaque   \n",
       "3  https://www.zapimoveis.com.br/imovel/aluguel-c...        Destaque   \n",
       "5  https://www.zapimoveis.com.br/imovel/venda-and...             NaN   \n",
       "\n",
       "                            bairro                   endereco  \\\n",
       "0      Laranjeiras, Rio de Janeiro                  Rua Alice   \n",
       "1  Barra da Tijuca, Rio de Janeiro       Avenida das Américas   \n",
       "2            Lagoa, Rio de Janeiro    Avenida Epitácio Pessoa   \n",
       "3       Copacabana, Rio de Janeiro           Rua Francisco Sá   \n",
       "5           Centro, Rio de Janeiro  Avenida Marechal Floriano   \n",
       "\n",
       "                                           descricao data_completa  \n",
       "0  Aliança Viva aluga: Casa na Rua Alice, em Lara...    2024-11-13  \n",
       "1  Ótima oportunidade para quem busca um espaço c...    2024-11-13  \n",
       "2  (Código: 36354, Avenida Epitácio Pessoa) - Loc...    2024-11-13  \n",
       "3  Monte seu consultório/sala de pilates AQUI!\\n\\...    2024-11-13  \n",
       "5  Centro, RJ. Conjunto comercial medindo aproxim...    2024-11-13  "
      ]
     },
     "execution_count": 4,
     "metadata": {},
     "output_type": "execute_result"
    }
   ],
   "source": [
    "dataframe_urls = _extract_data_in_html_for_page_with_many_cards(lista_informacoes_imoveis)\n",
    "dataframe_urls.head()\n",
    "dataframe_urls = dataframe_urls.dropna(subset=['url_imovel'])\n",
    "print(dataframe_urls.shape)\n",
    "dataframe_urls.head()"
   ]
  },
  {
   "cell_type": "code",
   "execution_count": 5,
   "metadata": {},
   "outputs": [
    {
     "name": "stderr",
     "output_type": "stream",
     "text": [
      "\u001b[32m2024-11-13 07:12:16.821\u001b[0m | \u001b[32m\u001b[1mSUCCESS \u001b[0m | \u001b[36m__main__\u001b[0m:\u001b[36m<module>\u001b[0m:\u001b[36m2\u001b[0m - \u001b[32m\u001b[1mURLs Processadas: 10064\u001b[0m\n"
     ]
    }
   ],
   "source": [
    "urls_de_imoveis = dataframe_urls['url_imovel'].to_list()\n",
    "logger.success(f\"URLs Processadas: {len(urls_de_imoveis)}\")"
   ]
  },
  {
   "cell_type": "code",
   "execution_count": 6,
   "metadata": {},
   "outputs": [
    {
     "name": "stdout",
     "output_type": "stream",
     "text": [
      "[]\n"
     ]
    },
    {
     "name": "stderr",
     "output_type": "stream",
     "text": [
      "Processando funções: 100%|██████████| 3/3 [00:23<00:00,  7.96s/it]\n"
     ]
    }
   ],
   "source": [
    "list_use_in_function = urls_de_imoveis[:3]\n",
    "function_to_apply = _get_html_especifc_for_wich_property\n",
    "name_file = 'caracteristicas_imoveis_aluguel'\n",
    "workers = 3\n",
    "args = []\n",
    "\n",
    "info_pages, erro_pages = _apply_functions_in_parallel_to_webscraping(list_use_in_function=list_use_in_function, function_to_apply=function_to_apply, name_file=name_file, key_name=\"url\", workers=workers, args=args)"
   ]
  },
  {
   "cell_type": "code",
   "execution_count": 7,
   "metadata": {},
   "outputs": [
    {
     "name": "stderr",
     "output_type": "stream",
     "text": [
      "\u001b[32m2024-11-13 07:12:48.948\u001b[0m | \u001b[32m\u001b[1mSUCCESS \u001b[0m | \u001b[36m__main__\u001b[0m:\u001b[36m<module>\u001b[0m:\u001b[36m2\u001b[0m - \u001b[32m\u001b[1mInformações dos Imóveis Processadas: 3\u001b[0m\n"
     ]
    },
    {
     "data": {
      "text/plain": [
       "[{'url': 'https://www.zapimoveis.com.br/imovel/aluguel-apartamento-3-quartos-com-jardim-lagoa-zona-sul-rio-de-janeiro-rj-137m2-id-2750169530/',\n",
       "  'content': {'ELEVATOR': None,\n",
       "   'GARDEN': 'Jardim',\n",
       "   'INTERCOM': 'Interfone',\n",
       "   'SERVICE_AREA': 'Área de serviço',\n",
       "   'condominio': 'R$\\xa01.982',\n",
       "   'endereco': 'Avenida Epitácio Pessoa, 4344 - Lagoa, Rio de Janeiro - RJ',\n",
       "   'floorLevel': None,\n",
       "   'floorSize': '137 m² ',\n",
       "   'iptu': 'R$\\xa0470',\n",
       "   'numberOfBathroomsTotal': '2 banheiros',\n",
       "   'numberOfParkingSpaces': '2 vagas',\n",
       "   'numberOfRooms': '3 quartos',\n",
       "   'numberOfSuites': '1 suíte',\n",
       "   'preco': 'R$\\xa012.500/mês'}},\n",
       " {'url': 'https://www.zapimoveis.com.br/imovel/aluguel-loja-salao-com-elevador-barra-da-tijuca-zona-oeste-rio-de-janeiro-rj-70m2-id-2729441818/',\n",
       "  'content': {'ELEVATOR': 'Elevador',\n",
       "   'GARDEN': None,\n",
       "   'INTERCOM': 'Interfone',\n",
       "   'SERVICE_AREA': None,\n",
       "   'condominio': 'R$\\xa02.940',\n",
       "   'endereco': 'Avenida das Américas, 5001 - Barra da Tijuca, Rio de Janeiro - RJ',\n",
       "   'floorLevel': '1 andar',\n",
       "   'floorSize': '70 m² ',\n",
       "   'iptu': 'R$\\xa020.933',\n",
       "   'numberOfBathroomsTotal': '1 banheiro',\n",
       "   'numberOfParkingSpaces': '2 vagas',\n",
       "   'numberOfRooms': None,\n",
       "   'numberOfSuites': None,\n",
       "   'preco': 'R$\\xa06.000/mês'}},\n",
       " {'url': 'https://www.zapimoveis.com.br/imovel/aluguel-casa-8-quartos-laranjeiras-zona-sul-rio-de-janeiro-rj-300m2-id-2741566013/',\n",
       "  'content': {'ELEVATOR': None,\n",
       "   'GARDEN': None,\n",
       "   'INTERCOM': None,\n",
       "   'SERVICE_AREA': None,\n",
       "   'condominio': 'não informado',\n",
       "   'endereco': 'Rua Alice - Laranjeiras, Rio de Janeiro - RJ',\n",
       "   'floorLevel': None,\n",
       "   'floorSize': '300 m² ',\n",
       "   'iptu': 'R$\\xa06.558',\n",
       "   'numberOfBathroomsTotal': '2 banheiros',\n",
       "   'numberOfParkingSpaces': '4 vagas',\n",
       "   'numberOfRooms': '8 quartos',\n",
       "   'numberOfSuites': '2 suítes',\n",
       "   'preco': 'R$\\xa020.000/mês'}}]"
      ]
     },
     "execution_count": 7,
     "metadata": {},
     "output_type": "execute_result"
    }
   ],
   "source": [
    "lista_informacoes_imoveis_aluguel, erros_imoveis_aluguel = _read_results_parquet(key_name=\"url\", name_file=\"caracteristicas_imoveis_aluguel\")\n",
    "logger.success(f\"Informações dos Imóveis Processadas: {len(lista_informacoes_imoveis_aluguel)}\")\n",
    "lista_informacoes_imoveis_aluguel"
   ]
  },
  {
   "cell_type": "code",
   "execution_count": 6,
   "metadata": {},
   "outputs": [
    {
     "name": "stdout",
     "output_type": "stream",
     "text": [
      "                                                 url\n",
      "0  https://www.zapimoveis.com.br/imovel/aluguel-c...\n",
      "1  https://www.zapimoveis.com.br/imovel/aluguel-l...\n",
      "2  https://www.zapimoveis.com.br/imovel/aluguel-a...\n",
      "3  https://www.zapimoveis.com.br/imovel/aluguel-c...\n",
      "4  https://www.zapimoveis.com.br/imovel/venda-and...\n"
     ]
    },
    {
     "ename": "KeyError",
     "evalue": "'preco'",
     "output_type": "error",
     "traceback": [
      "\u001b[1;31m---------------------------------------------------------------------------\u001b[0m",
      "\u001b[1;31mKeyError\u001b[0m                                  Traceback (most recent call last)",
      "File \u001b[1;32mc:\\Users\\FVF0\\OneDrive - PETROBRAS\\Dev\\zap-imoveis-scraping-prediction\\venv\\Lib\\site-packages\\pandas\\core\\indexes\\base.py:3805\u001b[0m, in \u001b[0;36mIndex.get_loc\u001b[1;34m(self, key)\u001b[0m\n\u001b[0;32m   3804\u001b[0m \u001b[38;5;28;01mtry\u001b[39;00m:\n\u001b[1;32m-> 3805\u001b[0m     \u001b[38;5;28;01mreturn\u001b[39;00m \u001b[38;5;28;43mself\u001b[39;49m\u001b[38;5;241;43m.\u001b[39;49m\u001b[43m_engine\u001b[49m\u001b[38;5;241;43m.\u001b[39;49m\u001b[43mget_loc\u001b[49m\u001b[43m(\u001b[49m\u001b[43mcasted_key\u001b[49m\u001b[43m)\u001b[49m\n\u001b[0;32m   3806\u001b[0m \u001b[38;5;28;01mexcept\u001b[39;00m \u001b[38;5;167;01mKeyError\u001b[39;00m \u001b[38;5;28;01mas\u001b[39;00m err:\n",
      "File \u001b[1;32mindex.pyx:167\u001b[0m, in \u001b[0;36mpandas._libs.index.IndexEngine.get_loc\u001b[1;34m()\u001b[0m\n",
      "File \u001b[1;32mindex.pyx:196\u001b[0m, in \u001b[0;36mpandas._libs.index.IndexEngine.get_loc\u001b[1;34m()\u001b[0m\n",
      "File \u001b[1;32mpandas\\\\_libs\\\\hashtable_class_helper.pxi:7081\u001b[0m, in \u001b[0;36mpandas._libs.hashtable.PyObjectHashTable.get_item\u001b[1;34m()\u001b[0m\n",
      "File \u001b[1;32mpandas\\\\_libs\\\\hashtable_class_helper.pxi:7089\u001b[0m, in \u001b[0;36mpandas._libs.hashtable.PyObjectHashTable.get_item\u001b[1;34m()\u001b[0m\n",
      "\u001b[1;31mKeyError\u001b[0m: 'preco'",
      "\nThe above exception was the direct cause of the following exception:\n",
      "\u001b[1;31mKeyError\u001b[0m                                  Traceback (most recent call last)",
      "Cell \u001b[1;32mIn[6], line 51\u001b[0m\n\u001b[0;32m     48\u001b[0m \u001b[38;5;28mprint\u001b[39m(dados_resumidos\u001b[38;5;241m.\u001b[39mhead())\n\u001b[0;32m     50\u001b[0m \u001b[38;5;66;03m# Aplica as funções de limpeza nas colunas\u001b[39;00m\n\u001b[1;32m---> 51\u001b[0m dados_resumidos[\u001b[38;5;124m'\u001b[39m\u001b[38;5;124mpreco\u001b[39m\u001b[38;5;124m'\u001b[39m] \u001b[38;5;241m=\u001b[39m \u001b[43mdados_resumidos\u001b[49m\u001b[43m[\u001b[49m\u001b[38;5;124;43m'\u001b[39;49m\u001b[38;5;124;43mpreco\u001b[39;49m\u001b[38;5;124;43m'\u001b[39;49m\u001b[43m]\u001b[49m\u001b[38;5;241m.\u001b[39mapply(limpar_preco)\n\u001b[0;32m     52\u001b[0m dados_resumidos[\u001b[38;5;124m'\u001b[39m\u001b[38;5;124marea\u001b[39m\u001b[38;5;124m'\u001b[39m] \u001b[38;5;241m=\u001b[39m dados_resumidos[\u001b[38;5;124m'\u001b[39m\u001b[38;5;124marea\u001b[39m\u001b[38;5;124m'\u001b[39m]\u001b[38;5;241m.\u001b[39mapply(limpar_m2)\n\u001b[0;32m     53\u001b[0m dados_resumidos[\u001b[38;5;124m'\u001b[39m\u001b[38;5;124mcondominio\u001b[39m\u001b[38;5;124m'\u001b[39m] \u001b[38;5;241m=\u001b[39m dados_resumidos[\u001b[38;5;124m'\u001b[39m\u001b[38;5;124mcondominio\u001b[39m\u001b[38;5;124m'\u001b[39m]\u001b[38;5;241m.\u001b[39mapply(limpar_preco)\n",
      "File \u001b[1;32mc:\\Users\\FVF0\\OneDrive - PETROBRAS\\Dev\\zap-imoveis-scraping-prediction\\venv\\Lib\\site-packages\\pandas\\core\\frame.py:4102\u001b[0m, in \u001b[0;36mDataFrame.__getitem__\u001b[1;34m(self, key)\u001b[0m\n\u001b[0;32m   4100\u001b[0m \u001b[38;5;28;01mif\u001b[39;00m \u001b[38;5;28mself\u001b[39m\u001b[38;5;241m.\u001b[39mcolumns\u001b[38;5;241m.\u001b[39mnlevels \u001b[38;5;241m>\u001b[39m \u001b[38;5;241m1\u001b[39m:\n\u001b[0;32m   4101\u001b[0m     \u001b[38;5;28;01mreturn\u001b[39;00m \u001b[38;5;28mself\u001b[39m\u001b[38;5;241m.\u001b[39m_getitem_multilevel(key)\n\u001b[1;32m-> 4102\u001b[0m indexer \u001b[38;5;241m=\u001b[39m \u001b[38;5;28;43mself\u001b[39;49m\u001b[38;5;241;43m.\u001b[39;49m\u001b[43mcolumns\u001b[49m\u001b[38;5;241;43m.\u001b[39;49m\u001b[43mget_loc\u001b[49m\u001b[43m(\u001b[49m\u001b[43mkey\u001b[49m\u001b[43m)\u001b[49m\n\u001b[0;32m   4103\u001b[0m \u001b[38;5;28;01mif\u001b[39;00m is_integer(indexer):\n\u001b[0;32m   4104\u001b[0m     indexer \u001b[38;5;241m=\u001b[39m [indexer]\n",
      "File \u001b[1;32mc:\\Users\\FVF0\\OneDrive - PETROBRAS\\Dev\\zap-imoveis-scraping-prediction\\venv\\Lib\\site-packages\\pandas\\core\\indexes\\base.py:3812\u001b[0m, in \u001b[0;36mIndex.get_loc\u001b[1;34m(self, key)\u001b[0m\n\u001b[0;32m   3807\u001b[0m     \u001b[38;5;28;01mif\u001b[39;00m \u001b[38;5;28misinstance\u001b[39m(casted_key, \u001b[38;5;28mslice\u001b[39m) \u001b[38;5;129;01mor\u001b[39;00m (\n\u001b[0;32m   3808\u001b[0m         \u001b[38;5;28misinstance\u001b[39m(casted_key, abc\u001b[38;5;241m.\u001b[39mIterable)\n\u001b[0;32m   3809\u001b[0m         \u001b[38;5;129;01mand\u001b[39;00m \u001b[38;5;28many\u001b[39m(\u001b[38;5;28misinstance\u001b[39m(x, \u001b[38;5;28mslice\u001b[39m) \u001b[38;5;28;01mfor\u001b[39;00m x \u001b[38;5;129;01min\u001b[39;00m casted_key)\n\u001b[0;32m   3810\u001b[0m     ):\n\u001b[0;32m   3811\u001b[0m         \u001b[38;5;28;01mraise\u001b[39;00m InvalidIndexError(key)\n\u001b[1;32m-> 3812\u001b[0m     \u001b[38;5;28;01mraise\u001b[39;00m \u001b[38;5;167;01mKeyError\u001b[39;00m(key) \u001b[38;5;28;01mfrom\u001b[39;00m \u001b[38;5;21;01merr\u001b[39;00m\n\u001b[0;32m   3813\u001b[0m \u001b[38;5;28;01mexcept\u001b[39;00m \u001b[38;5;167;01mTypeError\u001b[39;00m:\n\u001b[0;32m   3814\u001b[0m     \u001b[38;5;66;03m# If we have a listlike key, _check_indexing_error will raise\u001b[39;00m\n\u001b[0;32m   3815\u001b[0m     \u001b[38;5;66;03m#  InvalidIndexError. Otherwise we fall through and re-raise\u001b[39;00m\n\u001b[0;32m   3816\u001b[0m     \u001b[38;5;66;03m#  the TypeError.\u001b[39;00m\n\u001b[0;32m   3817\u001b[0m     \u001b[38;5;28mself\u001b[39m\u001b[38;5;241m.\u001b[39m_check_indexing_error(key)\n",
      "\u001b[1;31mKeyError\u001b[0m: 'preco'"
     ]
    }
   ],
   "source": [
    "def limpar_preco(valor):\n",
    "\n",
    "    if isinstance(valor, str):\n",
    "        valor = valor.replace(\"R$\", \"\").replace(\".\", \"\").replace(\",\", \".\").strip()\n",
    "        try:\n",
    "            valor = float(valor)\n",
    "        except:\n",
    "            valor = None\n",
    "    \n",
    "    return valor\n",
    "\n",
    "def limpar_m2(valor):\n",
    "    \n",
    "    if isinstance(valor, str):\n",
    "        valor = valor.replace(\"m²\", \"\").replace(\",\", \".\").strip()\n",
    "        try:\n",
    "            valor = float(valor)\n",
    "        except:\n",
    "            valor = None\n",
    "    \n",
    "    return valor\n",
    "\n",
    "def limpar_numero(valor):\n",
    "    if isinstance(valor, str):\n",
    "        if \"-\" not in valor:\n",
    "            valor = re.sub(r\"[^0-9]\", \"\", valor)  # Remove qualquer coisa que não seja número\n",
    "            return int(valor) if valor else None\n",
    "        else:\n",
    "            valor = None\n",
    "    return valor\n",
    "\n",
    "dados_imoveis = pd.json_normalize(lista_informacoes_imoveis_aluguel)\n",
    "\n",
    "# Identificar colunas com mais de X% de dados não nulos\n",
    "dados_resumidos = dados_imoveis.loc[:, dados_imoveis.notnull().mean() > 0.6].copy()\n",
    "dados_resumidos = dados_resumidos.rename(columns={\n",
    "    \"content.condominio\": \"condominio\",\n",
    "    \"content.endereco\": \"endereco\",\n",
    "    \"content.floorSize\": \"area\",\n",
    "    \"content.iptu\": \"iptu\",\n",
    "    \"content.numberOfBathroomsTotal\": \"banheiros\",\n",
    "    \"content.numberOfParkingSpaces\": \"vagas_de_carro\",\n",
    "    \"content.numberOfRooms\": \"quartos\",\n",
    "    \"content.numberOfSuites\": \"suites\",\n",
    "    \"content.preco\": \"preco\"\n",
    "})\n",
    "\n",
    "print(dados_resumidos.head())\n",
    "\n",
    "# Aplica as funções de limpeza nas colunas\n",
    "dados_resumidos['preco'] = dados_resumidos['preco'].apply(limpar_preco)\n",
    "dados_resumidos['area'] = dados_resumidos['area'].apply(limpar_m2)\n",
    "dados_resumidos['condominio'] = dados_resumidos['condominio'].apply(limpar_preco)\n",
    "dados_resumidos['iptu'] = dados_resumidos['iptu'].apply(limpar_preco)\n",
    "dados_resumidos['banheiros'] = dados_resumidos['banheiros'].apply(limpar_numero)\n",
    "dados_resumidos['vagas_de_carro'] = dados_resumidos['vagas_de_carro'].apply(limpar_numero)\n",
    "dados_resumidos['quartos'] = dados_resumidos['quartos'].apply(limpar_numero)\n",
    "dados_resumidos['suites'] = dados_resumidos['suites'].apply(limpar_numero)"
   ]
  },
  {
   "cell_type": "code",
   "execution_count": 5,
   "metadata": {},
   "outputs": [],
   "source": [
    "dataframe_imoveis_tratado.to_parquet('dataframe_imoveis_a_vender_tratados.parquet', index=False)"
   ]
  }
 ],
 "metadata": {
  "kernelspec": {
   "display_name": "venv",
   "language": "python",
   "name": "python3"
  },
  "language_info": {
   "codemirror_mode": {
    "name": "ipython",
    "version": 3
   },
   "file_extension": ".py",
   "mimetype": "text/x-python",
   "name": "python",
   "nbconvert_exporter": "python",
   "pygments_lexer": "ipython3",
   "version": "3.13.0"
  }
 },
 "nbformat": 4,
 "nbformat_minor": 2
}
