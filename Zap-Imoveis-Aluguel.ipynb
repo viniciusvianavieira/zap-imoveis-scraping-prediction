{
 "cells": [
  {
   "cell_type": "code",
   "execution_count": 1,
   "metadata": {},
   "outputs": [],
   "source": [
    "import json\n",
    "import numpy as np \n",
    "import pandas as pd\n",
    "from loguru import logger\n",
    "from modules import _get_driver_webscraping, _get_headers_webscraping, _number_of_pages, _get_html_with_many_cards, _read_results_parquet, _apply_functions_in_parallel_to_webscraping, _read_json_file, _extract_data_in_html_for_page_with_many_cards, _get_html_especifc_for_wich_property, _transform_data_to_dataframe"
   ]
  },
  {
   "cell_type": "code",
   "execution_count": 2,
   "metadata": {},
   "outputs": [],
   "source": [
    "base_url = 'https://www.zapimoveis.com.br'\n",
    "transaction = \"aluguel\"\n",
    "type = \"imoveis\"\n",
    "local = \"rj+rio-de-janeiro\""
   ]
  },
  {
   "cell_type": "code",
   "execution_count": 3,
   "metadata": {},
   "outputs": [
    {
     "name": "stdout",
     "output_type": "stream",
     "text": [
      "{\n",
      "    \"Parametros\": {\n",
      "        \"Transacao\": \"aluguel\",\n",
      "        \"Tipo\": \"imoveis\",\n",
      "        \"Local\": \"rj+rio-de-janeiro\"\n",
      "    },\n",
      "    \"Requisicao\": {\n",
      "        \"Status\": true\n",
      "    },\n",
      "    \"Imoveis\": 26981,\n",
      "    \"Paginas\": 269\n",
      "}\n"
     ]
    }
   ],
   "source": [
    "# number_of_pages = _number_of_pages(base_url, transaction, type, local)\n",
    "# print(number_of_pages)\n",
    "\n",
    "number_of_pages = {'Parametros': {'Transacao': 'aluguel', 'Tipo': 'imoveis', 'Local': 'rj+rio-de-janeiro'}, 'Requisicao': {'Status': True}, 'Imoveis': 26981, 'Paginas': 269}\n",
    "number_of_pages = json.dumps(number_of_pages, indent=4)\n",
    "print(number_of_pages)\n"
   ]
  },
  {
   "cell_type": "code",
   "execution_count": 1,
   "metadata": {},
   "outputs": [],
   "source": [
    "# list_use_in_function = list(range(1, 269))\n",
    "# function_to_apply = _get_html_with_many_cards\n",
    "# name_file = 'urls_imoveis_aluguel'\n",
    "# workers = 3\n",
    "# args = [base_url, transaction, type, local]\n",
    "\n",
    "# info_pages, erro_pages = _apply_functions_in_parallel_to_webscraping(list_use_in_function=list_use_in_function, function_to_apply=function_to_apply, name_file=name_file, key_name=\"url\", workers=workers, args=args)\n",
    "# info_pages, erro_pages"
   ]
  },
  {
   "cell_type": "code",
   "execution_count": 3,
   "metadata": {},
   "outputs": [
    {
     "name": "stderr",
     "output_type": "stream",
     "text": [
      "\u001b[32m2024-11-13 07:39:48.401\u001b[0m | \u001b[32m\u001b[1mSUCCESS \u001b[0m | \u001b[36m__main__\u001b[0m:\u001b[36m<module>\u001b[0m:\u001b[36m2\u001b[0m - \u001b[32m\u001b[1mInformações dos Imóveis Processadas: 268\u001b[0m\n"
     ]
    }
   ],
   "source": [
    "lista_informacoes_imoveis, erros_imoveis = _read_results_parquet(key_name=\"url\", name_file=\"urls_imoveis_aluguel\")\n",
    "logger.success(f\"Informações dos Imóveis Processadas: {len(lista_informacoes_imoveis)}\")"
   ]
  },
  {
   "cell_type": "code",
   "execution_count": 4,
   "metadata": {},
   "outputs": [
    {
     "name": "stdout",
     "output_type": "stream",
     "text": [
      "(10064, 9)\n"
     ]
    },
    {
     "data": {
      "text/html": [
       "<div>\n",
       "<style scoped>\n",
       "    .dataframe tbody tr th:only-of-type {\n",
       "        vertical-align: middle;\n",
       "    }\n",
       "\n",
       "    .dataframe tbody tr th {\n",
       "        vertical-align: top;\n",
       "    }\n",
       "\n",
       "    .dataframe thead th {\n",
       "        text-align: right;\n",
       "    }\n",
       "</style>\n",
       "<table border=\"1\" class=\"dataframe\">\n",
       "  <thead>\n",
       "    <tr style=\"text-align: right;\">\n",
       "      <th></th>\n",
       "      <th>pagina</th>\n",
       "      <th>anuncio_pagina</th>\n",
       "      <th>id_imovel</th>\n",
       "      <th>url_imovel</th>\n",
       "      <th>destaque</th>\n",
       "      <th>bairro</th>\n",
       "      <th>endereco</th>\n",
       "      <th>descricao</th>\n",
       "      <th>data_completa</th>\n",
       "    </tr>\n",
       "  </thead>\n",
       "  <tbody>\n",
       "    <tr>\n",
       "      <th>0</th>\n",
       "      <td>0</td>\n",
       "      <td>0</td>\n",
       "      <td>2741566013</td>\n",
       "      <td>https://www.zapimoveis.com.br/imovel/aluguel-c...</td>\n",
       "      <td>Super Destaque</td>\n",
       "      <td>Laranjeiras, Rio de Janeiro</td>\n",
       "      <td>Rua Alice</td>\n",
       "      <td>Aliança Viva aluga: Casa na Rua Alice, em Lara...</td>\n",
       "      <td>2024-11-13</td>\n",
       "    </tr>\n",
       "    <tr>\n",
       "      <th>1</th>\n",
       "      <td>0</td>\n",
       "      <td>1</td>\n",
       "      <td>2729441818</td>\n",
       "      <td>https://www.zapimoveis.com.br/imovel/aluguel-l...</td>\n",
       "      <td>Super Destaque</td>\n",
       "      <td>Barra da Tijuca, Rio de Janeiro</td>\n",
       "      <td>Avenida das Américas</td>\n",
       "      <td>Ótima oportunidade para quem busca um espaço c...</td>\n",
       "      <td>2024-11-13</td>\n",
       "    </tr>\n",
       "    <tr>\n",
       "      <th>2</th>\n",
       "      <td>0</td>\n",
       "      <td>2</td>\n",
       "      <td>2750169530</td>\n",
       "      <td>https://www.zapimoveis.com.br/imovel/aluguel-a...</td>\n",
       "      <td>Super Destaque</td>\n",
       "      <td>Lagoa, Rio de Janeiro</td>\n",
       "      <td>Avenida Epitácio Pessoa</td>\n",
       "      <td>(Código: 36354, Avenida Epitácio Pessoa) - Loc...</td>\n",
       "      <td>2024-11-13</td>\n",
       "    </tr>\n",
       "    <tr>\n",
       "      <th>3</th>\n",
       "      <td>0</td>\n",
       "      <td>3</td>\n",
       "      <td>2755807416</td>\n",
       "      <td>https://www.zapimoveis.com.br/imovel/aluguel-c...</td>\n",
       "      <td>Destaque</td>\n",
       "      <td>Copacabana, Rio de Janeiro</td>\n",
       "      <td>Rua Francisco Sá</td>\n",
       "      <td>Monte seu consultório/sala de pilates AQUI!\\n\\...</td>\n",
       "      <td>2024-11-13</td>\n",
       "    </tr>\n",
       "    <tr>\n",
       "      <th>5</th>\n",
       "      <td>0</td>\n",
       "      <td>5</td>\n",
       "      <td>2750819430</td>\n",
       "      <td>https://www.zapimoveis.com.br/imovel/venda-and...</td>\n",
       "      <td>NaN</td>\n",
       "      <td>Centro, Rio de Janeiro</td>\n",
       "      <td>Avenida Marechal Floriano</td>\n",
       "      <td>Centro, RJ. Conjunto comercial medindo aproxim...</td>\n",
       "      <td>2024-11-13</td>\n",
       "    </tr>\n",
       "  </tbody>\n",
       "</table>\n",
       "</div>"
      ],
      "text/plain": [
       "   pagina  anuncio_pagina   id_imovel  \\\n",
       "0       0               0  2741566013   \n",
       "1       0               1  2729441818   \n",
       "2       0               2  2750169530   \n",
       "3       0               3  2755807416   \n",
       "5       0               5  2750819430   \n",
       "\n",
       "                                          url_imovel        destaque  \\\n",
       "0  https://www.zapimoveis.com.br/imovel/aluguel-c...  Super Destaque   \n",
       "1  https://www.zapimoveis.com.br/imovel/aluguel-l...  Super Destaque   \n",
       "2  https://www.zapimoveis.com.br/imovel/aluguel-a...  Super Destaque   \n",
       "3  https://www.zapimoveis.com.br/imovel/aluguel-c...        Destaque   \n",
       "5  https://www.zapimoveis.com.br/imovel/venda-and...             NaN   \n",
       "\n",
       "                            bairro                   endereco  \\\n",
       "0      Laranjeiras, Rio de Janeiro                  Rua Alice   \n",
       "1  Barra da Tijuca, Rio de Janeiro       Avenida das Américas   \n",
       "2            Lagoa, Rio de Janeiro    Avenida Epitácio Pessoa   \n",
       "3       Copacabana, Rio de Janeiro           Rua Francisco Sá   \n",
       "5           Centro, Rio de Janeiro  Avenida Marechal Floriano   \n",
       "\n",
       "                                           descricao data_completa  \n",
       "0  Aliança Viva aluga: Casa na Rua Alice, em Lara...    2024-11-13  \n",
       "1  Ótima oportunidade para quem busca um espaço c...    2024-11-13  \n",
       "2  (Código: 36354, Avenida Epitácio Pessoa) - Loc...    2024-11-13  \n",
       "3  Monte seu consultório/sala de pilates AQUI!\\n\\...    2024-11-13  \n",
       "5  Centro, RJ. Conjunto comercial medindo aproxim...    2024-11-13  "
      ]
     },
     "execution_count": 4,
     "metadata": {},
     "output_type": "execute_result"
    }
   ],
   "source": [
    "dataframe_urls = _extract_data_in_html_for_page_with_many_cards(lista_informacoes_imoveis)\n",
    "dataframe_urls.head()\n",
    "dataframe_urls = dataframe_urls.dropna(subset=['url_imovel'])\n",
    "print(dataframe_urls.shape)\n",
    "dataframe_urls.head()"
   ]
  },
  {
   "cell_type": "code",
   "execution_count": 5,
   "metadata": {},
   "outputs": [
    {
     "name": "stderr",
     "output_type": "stream",
     "text": [
      "\u001b[32m2024-11-13 07:41:05.681\u001b[0m | \u001b[32m\u001b[1mSUCCESS \u001b[0m | \u001b[36m__main__\u001b[0m:\u001b[36m<module>\u001b[0m:\u001b[36m2\u001b[0m - \u001b[32m\u001b[1mURLs Processadas: 10064\u001b[0m\n"
     ]
    }
   ],
   "source": [
    "urls_de_imoveis = dataframe_urls['url_imovel'].to_list()\n",
    "logger.success(f\"URLs Processadas: {len(urls_de_imoveis)}\")"
   ]
  },
  {
   "cell_type": "code",
   "execution_count": 9,
   "metadata": {},
   "outputs": [],
   "source": [
    "#list_use_in_function = urls_de_imoveis\n",
    "#function_to_apply = _get_html_especifc_for_wich_property\n",
    "#name_file = 'caracteristicas_imoveis_aluguel'\n",
    "#workers = 3\n",
    "#args = []\n",
    "\n",
    "#info_pages, erro_pages = _apply_functions_in_parallel_to_webscraping(list_use_in_function=list_use_in_function, function_to_apply=function_to_apply, name_file=name_file, key_name=\"url\", workers=workers, args=args)"
   ]
  },
  {
   "cell_type": "code",
   "execution_count": 11,
   "metadata": {},
   "outputs": [
    {
     "name": "stderr",
     "output_type": "stream",
     "text": [
      "\u001b[32m2024-11-13 14:53:44.351\u001b[0m | \u001b[32m\u001b[1mSUCCESS \u001b[0m | \u001b[36m__main__\u001b[0m:\u001b[36m<module>\u001b[0m:\u001b[36m2\u001b[0m - \u001b[32m\u001b[1mInformações dos Imóveis Processadas: 8322\u001b[0m\n"
     ]
    }
   ],
   "source": [
    "lista_informacoes_imoveis_aluguel, erros_imoveis_aluguel = _read_results_parquet(key_name=\"url\", name_file=\"caracteristicas_imoveis_aluguel\")\n",
    "logger.success(f\"Informações dos Imóveis Processadas: {len(lista_informacoes_imoveis_aluguel)}\")"
   ]
  },
  {
   "cell_type": "code",
   "execution_count": 17,
   "metadata": {},
   "outputs": [
    {
     "name": "stdout",
     "output_type": "stream",
     "text": [
      "(2710, 9)\n"
     ]
    },
    {
     "data": {
      "text/html": [
       "<div>\n",
       "<style scoped>\n",
       "    .dataframe tbody tr th:only-of-type {\n",
       "        vertical-align: middle;\n",
       "    }\n",
       "\n",
       "    .dataframe tbody tr th {\n",
       "        vertical-align: top;\n",
       "    }\n",
       "\n",
       "    .dataframe thead th {\n",
       "        text-align: right;\n",
       "    }\n",
       "</style>\n",
       "<table border=\"1\" class=\"dataframe\">\n",
       "  <thead>\n",
       "    <tr style=\"text-align: right;\">\n",
       "      <th></th>\n",
       "      <th>url</th>\n",
       "      <th>content.condominio</th>\n",
       "      <th>content.endereco</th>\n",
       "      <th>content.floorSize</th>\n",
       "      <th>content.iptu</th>\n",
       "      <th>content.numberOfBathroomsTotal</th>\n",
       "      <th>content.numberOfParkingSpaces</th>\n",
       "      <th>content.numberOfRooms</th>\n",
       "      <th>content.preco</th>\n",
       "    </tr>\n",
       "  </thead>\n",
       "  <tbody>\n",
       "    <tr>\n",
       "      <th>0</th>\n",
       "      <td>https://www.zapimoveis.com.br/imovel/aluguel-a...</td>\n",
       "      <td>R$ 1.982</td>\n",
       "      <td>Avenida Epitácio Pessoa, 4344 - Lagoa, Rio de ...</td>\n",
       "      <td>137 m²</td>\n",
       "      <td>R$ 470</td>\n",
       "      <td>2 banheiros</td>\n",
       "      <td>2 vagas</td>\n",
       "      <td>3 quartos</td>\n",
       "      <td>R$ 12.500/mês</td>\n",
       "    </tr>\n",
       "    <tr>\n",
       "      <th>1</th>\n",
       "      <td>https://www.zapimoveis.com.br/imovel/aluguel-c...</td>\n",
       "      <td>não informado</td>\n",
       "      <td>Rua Alice - Laranjeiras, Rio de Janeiro - RJ</td>\n",
       "      <td>300 m²</td>\n",
       "      <td>R$ 6.558</td>\n",
       "      <td>2 banheiros</td>\n",
       "      <td>4 vagas</td>\n",
       "      <td>8 quartos</td>\n",
       "      <td>R$ 20.000/mês</td>\n",
       "    </tr>\n",
       "    <tr>\n",
       "      <th>5</th>\n",
       "      <td>https://www.zapimoveis.com.br/imovel/aluguel-a...</td>\n",
       "      <td>R$ 700</td>\n",
       "      <td>Avenida Salvador Allende, 931 - Barra da Tijuc...</td>\n",
       "      <td>50 m²</td>\n",
       "      <td>R$ 75</td>\n",
       "      <td>2 banheiros</td>\n",
       "      <td>1 vaga</td>\n",
       "      <td>2 quartos</td>\n",
       "      <td>R$ 2.300/mês</td>\n",
       "    </tr>\n",
       "    <tr>\n",
       "      <th>7</th>\n",
       "      <td>https://www.zapimoveis.com.br/imovel/aluguel-a...</td>\n",
       "      <td>R$ 409</td>\n",
       "      <td>Rua Pinto Teles, 660 - Praça Seca, Rio de Jane...</td>\n",
       "      <td>60 m²</td>\n",
       "      <td>R$ 162</td>\n",
       "      <td>1 banheiro</td>\n",
       "      <td>1 vaga</td>\n",
       "      <td>2 quartos</td>\n",
       "      <td>R$ 1.100/mês</td>\n",
       "    </tr>\n",
       "    <tr>\n",
       "      <th>9</th>\n",
       "      <td>https://www.zapimoveis.com.br/imovel/aluguel-c...</td>\n",
       "      <td>R$ 100</td>\n",
       "      <td>Rua Artur Rios, 541 - Senador Vasconcelos, Rio...</td>\n",
       "      <td>120 m²</td>\n",
       "      <td>R$ 42</td>\n",
       "      <td>4 banheiros</td>\n",
       "      <td>1 vaga</td>\n",
       "      <td>3 quartos</td>\n",
       "      <td>R$ 1.600/mês</td>\n",
       "    </tr>\n",
       "  </tbody>\n",
       "</table>\n",
       "</div>"
      ],
      "text/plain": [
       "                                                 url content.condominio  \\\n",
       "0  https://www.zapimoveis.com.br/imovel/aluguel-a...           R$ 1.982   \n",
       "1  https://www.zapimoveis.com.br/imovel/aluguel-c...      não informado   \n",
       "5  https://www.zapimoveis.com.br/imovel/aluguel-a...             R$ 700   \n",
       "7  https://www.zapimoveis.com.br/imovel/aluguel-a...             R$ 409   \n",
       "9  https://www.zapimoveis.com.br/imovel/aluguel-c...             R$ 100   \n",
       "\n",
       "                                    content.endereco content.floorSize  \\\n",
       "0  Avenida Epitácio Pessoa, 4344 - Lagoa, Rio de ...           137 m²    \n",
       "1       Rua Alice - Laranjeiras, Rio de Janeiro - RJ           300 m²    \n",
       "5  Avenida Salvador Allende, 931 - Barra da Tijuc...            50 m²    \n",
       "7  Rua Pinto Teles, 660 - Praça Seca, Rio de Jane...            60 m²    \n",
       "9  Rua Artur Rios, 541 - Senador Vasconcelos, Rio...           120 m²    \n",
       "\n",
       "  content.iptu content.numberOfBathroomsTotal content.numberOfParkingSpaces  \\\n",
       "0       R$ 470                    2 banheiros                       2 vagas   \n",
       "1     R$ 6.558                    2 banheiros                       4 vagas   \n",
       "5        R$ 75                    2 banheiros                        1 vaga   \n",
       "7       R$ 162                     1 banheiro                        1 vaga   \n",
       "9        R$ 42                    4 banheiros                        1 vaga   \n",
       "\n",
       "  content.numberOfRooms  content.preco  \n",
       "0             3 quartos  R$ 12.500/mês  \n",
       "1             8 quartos  R$ 20.000/mês  \n",
       "5             2 quartos   R$ 2.300/mês  \n",
       "7             2 quartos   R$ 1.100/mês  \n",
       "9             3 quartos   R$ 1.600/mês  "
      ]
     },
     "metadata": {},
     "output_type": "display_data"
    }
   ],
   "source": [
    "def limpar_preco(valor):\n",
    "\n",
    "    if isinstance(valor, str):\n",
    "        valor = valor.replace(\"R$\", \"\").replace(\".\", \"\").replace(\",\", \".\").strip()\n",
    "        try:\n",
    "            valor = float(valor)\n",
    "        except:\n",
    "            valor = None\n",
    "    \n",
    "    return valor\n",
    "\n",
    "def limpar_m2(valor):\n",
    "    \n",
    "    if isinstance(valor, str):\n",
    "        valor = valor.replace(\"m²\", \"\").replace(\",\", \".\").strip()\n",
    "        try:\n",
    "            valor = float(valor)\n",
    "        except:\n",
    "            valor = None\n",
    "    \n",
    "    return valor\n",
    "\n",
    "def limpar_numero(valor):\n",
    "    if isinstance(valor, str):\n",
    "        if \"-\" not in valor:\n",
    "            valor = re.sub(r\"[^0-9]\", \"\", valor)  # Remove qualquer coisa que não seja número\n",
    "            return int(valor) if valor else None\n",
    "        else:\n",
    "            valor = None\n",
    "    return valor\n",
    "\n",
    "dados_imoveis = pd.json_normalize(lista_informacoes_imoveis_aluguel)\n",
    "\n",
    "# Identificar colunas com mais de X% de dados não nulos\n",
    "dados_resumidos = dados_imoveis.loc[:, dados_imoveis.notnull().mean() > 0.4].copy()\n",
    "dados_resumidos = dados_resumidos.dropna()\n",
    "print(dados_resumidos.shape)\n",
    "display(dados_resumidos.head())\n",
    "#dados_resumidos = dados_resumidos.rename(columns={\n",
    "#    \"content.condominio\": \"condominio\",\n",
    "#    \"content.endereco\": \"endereco\",\n",
    "#    \"content.floorSize\": \"area\",\n",
    "#    \"content.iptu\": \"iptu\", \n",
    "#    \"content.numberOfBathroomsTotal\": \"banheiros\",\n",
    "#    \"content.numberOfParkingSpaces\": \"vagas_de_carro\",\n",
    "#    \"content.numberOfRooms\": \"quartos\",\n",
    "#    \"content.numberOfSuites\": \"suites\",\n",
    "#    \"content.preco\": \"preco\"\n",
    "#})\n",
    "\n",
    "#print(dados_resumidos.head())\n",
    "\n",
    "# Aplica as funções de limpeza nas colunas\n",
    "#dados_resumidos['preco'] = dados_resumidos['preco'].apply(limpar_preco)\n",
    "#dados_resumidos['area'] = dados_resumidos['area'].apply(limpar_m2)\n",
    "#dados_resumidos['condominio'] = dados_resumidos['condominio'].apply(limpar_preco)\n",
    "#dados_resumidos['iptu'] = dados_resumidos['iptu'].apply(limpar_preco)\n",
    "#dados_resumidos['banheiros'] = dados_resumidos['banheiros'].apply(limpar_numero)\n",
    "#dados_resumidos['vagas_de_carro'] = dados_resumidos['vagas_de_carro'].apply(limpar_numero)\n",
    "#dados_resumidos['quartos'] = dados_resumidos['quartos'].apply(limpar_numero)\n",
    "#dados_resumidos['suites'] = dados_resumidos['suites'].apply(limpar_numero)"
   ]
  }
 ],
 "metadata": {
  "kernelspec": {
   "display_name": "venv",
   "language": "python",
   "name": "python3"
  },
  "language_info": {
   "codemirror_mode": {
    "name": "ipython",
    "version": 3
   },
   "file_extension": ".py",
   "mimetype": "text/x-python",
   "name": "python",
   "nbconvert_exporter": "python",
   "pygments_lexer": "ipython3",
   "version": "3.12.7"
  }
 },
 "nbformat": 4,
 "nbformat_minor": 2
}
