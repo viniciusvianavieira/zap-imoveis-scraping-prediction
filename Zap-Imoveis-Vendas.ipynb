{
 "cells": [
  {
   "cell_type": "code",
   "execution_count": 1,
   "metadata": {},
   "outputs": [],
   "source": [
    "import json\n",
    "import numpy as np \n",
    "import pandas as pd\n",
    "from loguru import logger\n",
    "from modules import _get_driver_webscraping, _get_headers_webscraping, _number_of_pages, _get_html_with_many_cards, _read_results_parquet, _apply_functions_in_parallel_to_webscraping, _read_json_file, _extract_data_in_html_for_page_with_many_cards, _get_html_especifc_for_wich_property, _transform_data_to_dataframe"
   ]
  },
  {
   "cell_type": "code",
   "execution_count": 2,
   "metadata": {},
   "outputs": [],
   "source": [
    "base_url = 'https://www.zapimoveis.com.br'\n",
    "transaction = \"venda\"\n",
    "type = \"imoveis\"\n",
    "local = \"rj+rio-de-janeiro\""
   ]
  },
  {
   "cell_type": "code",
   "execution_count": 3,
   "metadata": {},
   "outputs": [
    {
     "name": "stdout",
     "output_type": "stream",
     "text": [
      "{\n",
      "    \"Parametros\": {\n",
      "        \"Transacao\": \"venda\",\n",
      "        \"Tipo\": \"imoveis\",\n",
      "        \"Local\": \"rj+rio-de-janeiro\"\n",
      "    },\n",
      "    \"Requisicao\": {\n",
      "        \"Status\": true\n",
      "    },\n",
      "    \"Imoveis\": 256990,\n",
      "    \"Paginas\": 2569\n",
      "}\n"
     ]
    }
   ],
   "source": [
    "#number_of_pages = _number_of_pages(base_url, transaction, type, local)\n",
    "#print(number_of_pages)\n",
    "\n",
    "number_of_pages = {'Parametros': {'Transacao': 'venda', 'Tipo': 'imoveis', 'Local': 'rj+rio-de-janeiro'}, 'Requisicao': {'Status': True}, 'Imoveis': 256990, 'Paginas': 2569}\n",
    "print(json.dumps(number_of_pages, indent=4))"
   ]
  },
  {
   "cell_type": "code",
   "execution_count": 2,
   "metadata": {},
   "outputs": [],
   "source": [
    "#list_use_in_function = list(range(1, 3))\n",
    "#function_to_apply = _get_html_with_many_cards\n",
    "#name_file = 'urls_imoveis'\n",
    "#workers = 3\n",
    "#args = [base_url, transaction, type, local]\n",
    "\n",
    "#info_pages, erro_pages = _apply_functions_in_parallel_to_webscraping(list_use_in_function=list_use_in_function, function_to_apply=function_to_apply, name_file=name_file, key_name=\"url\", workers=workers, args=args)\n",
    "#info_pages, erro_pages"
   ]
  },
  {
   "cell_type": "code",
   "execution_count": 4,
   "metadata": {},
   "outputs": [
    {
     "name": "stderr",
     "output_type": "stream",
     "text": [
      "\u001b[32m2024-11-12 11:18:31.726\u001b[0m | \u001b[32m\u001b[1mSUCCESS \u001b[0m | \u001b[36mmodules\u001b[0m:\u001b[36m_read_json_file\u001b[0m:\u001b[36m213\u001b[0m - \u001b[32m\u001b[1mDados Listas Processados\u001b[0m\n",
      "\u001b[32m2024-11-12 11:18:31.728\u001b[0m | \u001b[1mINFO    \u001b[0m | \u001b[36m__main__\u001b[0m:\u001b[36m<module>\u001b[0m:\u001b[36m5\u001b[0m - \u001b[1mDados Listas Processados: 231\u001b[0m\n"
     ]
    }
   ],
   "source": [
    "# with zipfile.ZipFile('data.zip', 'r') as zip_ref:\n",
    "#     zip_ref.extractall()\n",
    "\n",
    "dados_lista = _read_json_file('data/url_imoveis.json')\n",
    "logger.info(f\"Dados Listas Processados: {len(dados_lista)}\")"
   ]
  },
  {
   "cell_type": "code",
   "execution_count": 5,
   "metadata": {},
   "outputs": [
    {
     "name": "stdout",
     "output_type": "stream",
     "text": [
      "(8578, 9)\n"
     ]
    },
    {
     "data": {
      "text/html": [
       "<div>\n",
       "<style scoped>\n",
       "    .dataframe tbody tr th:only-of-type {\n",
       "        vertical-align: middle;\n",
       "    }\n",
       "\n",
       "    .dataframe tbody tr th {\n",
       "        vertical-align: top;\n",
       "    }\n",
       "\n",
       "    .dataframe thead th {\n",
       "        text-align: right;\n",
       "    }\n",
       "</style>\n",
       "<table border=\"1\" class=\"dataframe\">\n",
       "  <thead>\n",
       "    <tr style=\"text-align: right;\">\n",
       "      <th></th>\n",
       "      <th>pagina</th>\n",
       "      <th>anuncio_pagina</th>\n",
       "      <th>id_imovel</th>\n",
       "      <th>url_imovel</th>\n",
       "      <th>destaque</th>\n",
       "      <th>bairro</th>\n",
       "      <th>endereco</th>\n",
       "      <th>descricao</th>\n",
       "      <th>data_completa</th>\n",
       "    </tr>\n",
       "  </thead>\n",
       "  <tbody>\n",
       "    <tr>\n",
       "      <th>0</th>\n",
       "      <td>0</td>\n",
       "      <td>0</td>\n",
       "      <td>2734881772</td>\n",
       "      <td>https://www.zapimoveis.com.br/imovel/venda-apa...</td>\n",
       "      <td>Super Destaque</td>\n",
       "      <td>Copacabana, Rio de Janeiro</td>\n",
       "      <td>Rua Dias da Rocha</td>\n",
       "      <td>Apartamento à venda original com 3 quartos com...</td>\n",
       "      <td>2024-11-12</td>\n",
       "    </tr>\n",
       "    <tr>\n",
       "      <th>1</th>\n",
       "      <td>0</td>\n",
       "      <td>1</td>\n",
       "      <td>2460272791</td>\n",
       "      <td>https://www.zapimoveis.com.br/lancamento/venda...</td>\n",
       "      <td>Pronto para morar</td>\n",
       "      <td>Botafogo, Rio de Janeiro</td>\n",
       "      <td>Rua Ministro Raul Fernandes</td>\n",
       "      <td>A TRANQUILIDADE NO CORAÇÃO DE BOTAFOGO!\\nAPENA...</td>\n",
       "      <td>2024-11-12</td>\n",
       "    </tr>\n",
       "    <tr>\n",
       "      <th>2</th>\n",
       "      <td>0</td>\n",
       "      <td>2</td>\n",
       "      <td>2753248608</td>\n",
       "      <td>https://www.zapimoveis.com.br/imovel/venda-apa...</td>\n",
       "      <td>Super Destaque</td>\n",
       "      <td>Recreio dos Bandeirantes, Rio de Janeiro</td>\n",
       "      <td>Rua Luiz Carlos Sarolli</td>\n",
       "      <td>Apartamento à Venda - 2 Quartos no Recreio dos...</td>\n",
       "      <td>2024-11-12</td>\n",
       "    </tr>\n",
       "    <tr>\n",
       "      <th>3</th>\n",
       "      <td>0</td>\n",
       "      <td>3</td>\n",
       "      <td>2750528798</td>\n",
       "      <td>https://www.zapimoveis.com.br/imovel/venda-apa...</td>\n",
       "      <td>Super Destaque</td>\n",
       "      <td>Leblon, Rio de Janeiro</td>\n",
       "      <td>Rua Alberto de Faria</td>\n",
       "      <td>Apartamento á venda em Leblon 307m2-São 4 quar...</td>\n",
       "      <td>2024-11-12</td>\n",
       "    </tr>\n",
       "    <tr>\n",
       "      <th>4</th>\n",
       "      <td>0</td>\n",
       "      <td>4</td>\n",
       "      <td>2573819798</td>\n",
       "      <td>https://www.zapimoveis.com.br/imovel/venda-apa...</td>\n",
       "      <td>NaN</td>\n",
       "      <td>Quintino Bocaiúva, Rio de Janeiro</td>\n",
       "      <td>Rua da República</td>\n",
       "      <td>-Cod:PPAP20178 -Rev.08Nov</td>\n",
       "      <td>2024-11-12</td>\n",
       "    </tr>\n",
       "  </tbody>\n",
       "</table>\n",
       "</div>"
      ],
      "text/plain": [
       "   pagina  anuncio_pagina   id_imovel  \\\n",
       "0       0               0  2734881772   \n",
       "1       0               1  2460272791   \n",
       "2       0               2  2753248608   \n",
       "3       0               3  2750528798   \n",
       "4       0               4  2573819798   \n",
       "\n",
       "                                          url_imovel           destaque  \\\n",
       "0  https://www.zapimoveis.com.br/imovel/venda-apa...     Super Destaque   \n",
       "1  https://www.zapimoveis.com.br/lancamento/venda...  Pronto para morar   \n",
       "2  https://www.zapimoveis.com.br/imovel/venda-apa...     Super Destaque   \n",
       "3  https://www.zapimoveis.com.br/imovel/venda-apa...     Super Destaque   \n",
       "4  https://www.zapimoveis.com.br/imovel/venda-apa...                NaN   \n",
       "\n",
       "                                     bairro                     endereco  \\\n",
       "0                Copacabana, Rio de Janeiro            Rua Dias da Rocha   \n",
       "1                  Botafogo, Rio de Janeiro  Rua Ministro Raul Fernandes   \n",
       "2  Recreio dos Bandeirantes, Rio de Janeiro      Rua Luiz Carlos Sarolli   \n",
       "3                    Leblon, Rio de Janeiro         Rua Alberto de Faria   \n",
       "4         Quintino Bocaiúva, Rio de Janeiro             Rua da República   \n",
       "\n",
       "                                           descricao data_completa  \n",
       "0  Apartamento à venda original com 3 quartos com...    2024-11-12  \n",
       "1  A TRANQUILIDADE NO CORAÇÃO DE BOTAFOGO!\\nAPENA...    2024-11-12  \n",
       "2  Apartamento à Venda - 2 Quartos no Recreio dos...    2024-11-12  \n",
       "3  Apartamento á venda em Leblon 307m2-São 4 quar...    2024-11-12  \n",
       "4                          -Cod:PPAP20178 -Rev.08Nov    2024-11-12  "
      ]
     },
     "execution_count": 5,
     "metadata": {},
     "output_type": "execute_result"
    }
   ],
   "source": [
    "dataframe_urls = _extract_data_in_html_for_page_with_many_cards(dados_lista)\n",
    "dataframe_urls = dataframe_urls.dropna(subset=['url_imovel'])\n",
    "print(dataframe_urls.shape)\n",
    "dataframe_urls.head()"
   ]
  },
  {
   "cell_type": "code",
   "execution_count": 6,
   "metadata": {},
   "outputs": [
    {
     "name": "stderr",
     "output_type": "stream",
     "text": [
      "\u001b[32m2024-11-12 11:19:27.915\u001b[0m | \u001b[32m\u001b[1mSUCCESS \u001b[0m | \u001b[36m__main__\u001b[0m:\u001b[36m<module>\u001b[0m:\u001b[36m2\u001b[0m - \u001b[32m\u001b[1mURLs Processadas: 8578\u001b[0m\n"
     ]
    }
   ],
   "source": [
    "urls_de_imoveis = dataframe_urls['url_imovel'].to_list()\n",
    "logger.success(f\"URLs Processadas: {len(urls_de_imoveis)}\")"
   ]
  },
  {
   "cell_type": "code",
   "execution_count": 9,
   "metadata": {},
   "outputs": [
    {
     "name": "stdout",
     "output_type": "stream",
     "text": [
      "[]\n"
     ]
    },
    {
     "name": "stderr",
     "output_type": "stream",
     "text": [
      "Processando funções:   0%|          | 1/8578 [00:17<40:50:21, 17.14s/it]"
     ]
    },
    {
     "name": "stdout",
     "output_type": "stream",
     "text": [
      "Erro na página https://www.zapimoveis.com.br/imovel/venda-apartamento-3-quartos-com-varanda-copacabana-zona-sul-rio-de-janeiro-rj-100m2-id-2734881772/: File is not a zip file\n"
     ]
    }
   ],
   "source": [
    "# list_use_in_function = urls_de_imoveis\n",
    "# function_to_apply = _get_html_especifc_for_wich_property\n",
    "# name_file = 'caracteristicas_imoveis'\n",
    "# workers = 3\n",
    "# args = []\n",
    "\n",
    "# info_pages, erro_pages = _apply_functions_in_parallel_to_webscraping(list_use_in_function=list_use_in_function, function_to_apply=function_to_apply, name_file=name_file, key_name=\"url\", workers=workers, args=args)\n",
    "# info_pages, erro_pages"
   ]
  },
  {
   "cell_type": "code",
   "execution_count": 2,
   "metadata": {},
   "outputs": [
    {
     "name": "stderr",
     "output_type": "stream",
     "text": [
      "\u001b[32m2024-11-12 17:17:45.480\u001b[0m | \u001b[32m\u001b[1mSUCCESS \u001b[0m | \u001b[36m__main__\u001b[0m:\u001b[36m<module>\u001b[0m:\u001b[36m2\u001b[0m - \u001b[32m\u001b[1mInformações dos Imóveis Processadas: 8578\u001b[0m\n"
     ]
    }
   ],
   "source": [
    "lista_informacoes_imoveis, erros_imoveis = _read_results_parquet(key_name=\"url_imovel\", name_file=\"caracteristicas_imoveis\")\n",
    "logger.success(f\"Informações dos Imóveis Processadas: {len(lista_informacoes_imoveis)}\")"
   ]
  },
  {
   "cell_type": "code",
   "execution_count": 4,
   "metadata": {},
   "outputs": [
    {
     "name": "stdout",
     "output_type": "stream",
     "text": [
      "Dimensões antes da limpeza:  (8578, 10)\n",
      "Dimensões após a limpeza:  (3110, 10)\n"
     ]
    },
    {
     "data": {
      "text/html": [
       "<div>\n",
       "<style scoped>\n",
       "    .dataframe tbody tr th:only-of-type {\n",
       "        vertical-align: middle;\n",
       "    }\n",
       "\n",
       "    .dataframe tbody tr th {\n",
       "        vertical-align: top;\n",
       "    }\n",
       "\n",
       "    .dataframe thead th {\n",
       "        text-align: right;\n",
       "    }\n",
       "</style>\n",
       "<table border=\"1\" class=\"dataframe\">\n",
       "  <thead>\n",
       "    <tr style=\"text-align: right;\">\n",
       "      <th></th>\n",
       "      <th>url_imovel</th>\n",
       "      <th>condominio</th>\n",
       "      <th>endereco</th>\n",
       "      <th>area</th>\n",
       "      <th>iptu</th>\n",
       "      <th>banheiros</th>\n",
       "      <th>vagas_de_carro</th>\n",
       "      <th>quartos</th>\n",
       "      <th>suites</th>\n",
       "      <th>preco</th>\n",
       "    </tr>\n",
       "  </thead>\n",
       "  <tbody>\n",
       "    <tr>\n",
       "      <th>0</th>\n",
       "      <td>https://www.zapimoveis.com.br/imovel/venda-apa...</td>\n",
       "      <td>900.0</td>\n",
       "      <td>Rua Luiz Carlos Sarolli, 2021 - Recreio Dos Ba...</td>\n",
       "      <td>61.0</td>\n",
       "      <td>1200.0</td>\n",
       "      <td>2.0</td>\n",
       "      <td>1.0</td>\n",
       "      <td>2.0</td>\n",
       "      <td>1.0</td>\n",
       "      <td>510000.0</td>\n",
       "    </tr>\n",
       "    <tr>\n",
       "      <th>3</th>\n",
       "      <td>https://www.zapimoveis.com.br/imovel/venda-apa...</td>\n",
       "      <td>2700.0</td>\n",
       "      <td>Rua Alberto de Faria - Leblon, Rio de Janeiro ...</td>\n",
       "      <td>307.0</td>\n",
       "      <td>1300.0</td>\n",
       "      <td>5.0</td>\n",
       "      <td>3.0</td>\n",
       "      <td>4.0</td>\n",
       "      <td>2.0</td>\n",
       "      <td>5800000.0</td>\n",
       "    </tr>\n",
       "    <tr>\n",
       "      <th>11</th>\n",
       "      <td>https://www.zapimoveis.com.br/imovel/venda-cas...</td>\n",
       "      <td>870.0</td>\n",
       "      <td>Rua Iza Carrijo, 80 - Anil, Rio de Janeiro - RJ</td>\n",
       "      <td>225.0</td>\n",
       "      <td>2820.0</td>\n",
       "      <td>3.0</td>\n",
       "      <td>3.0</td>\n",
       "      <td>3.0</td>\n",
       "      <td>1.0</td>\n",
       "      <td>900000.0</td>\n",
       "    </tr>\n",
       "    <tr>\n",
       "      <th>14</th>\n",
       "      <td>https://www.zapimoveis.com.br/imovel/venda-apa...</td>\n",
       "      <td>670.0</td>\n",
       "      <td>Rua Piauí, 77 - Todos os Santos, Rio de Janeir...</td>\n",
       "      <td>50.0</td>\n",
       "      <td>526.0</td>\n",
       "      <td>2.0</td>\n",
       "      <td>1.0</td>\n",
       "      <td>2.0</td>\n",
       "      <td>1.0</td>\n",
       "      <td>230000.0</td>\n",
       "    </tr>\n",
       "    <tr>\n",
       "      <th>19</th>\n",
       "      <td>https://www.zapimoveis.com.br/imovel/venda-apa...</td>\n",
       "      <td>821.0</td>\n",
       "      <td>Rua Dois de Fevereiro - Engenho De Dentro, Rio...</td>\n",
       "      <td>76.0</td>\n",
       "      <td>650.0</td>\n",
       "      <td>3.0</td>\n",
       "      <td>1.0</td>\n",
       "      <td>3.0</td>\n",
       "      <td>1.0</td>\n",
       "      <td>235000.0</td>\n",
       "    </tr>\n",
       "  </tbody>\n",
       "</table>\n",
       "</div>"
      ],
      "text/plain": [
       "                                           url_imovel  condominio  \\\n",
       "0   https://www.zapimoveis.com.br/imovel/venda-apa...       900.0   \n",
       "3   https://www.zapimoveis.com.br/imovel/venda-apa...      2700.0   \n",
       "11  https://www.zapimoveis.com.br/imovel/venda-cas...       870.0   \n",
       "14  https://www.zapimoveis.com.br/imovel/venda-apa...       670.0   \n",
       "19  https://www.zapimoveis.com.br/imovel/venda-apa...       821.0   \n",
       "\n",
       "                                             endereco   area    iptu  \\\n",
       "0   Rua Luiz Carlos Sarolli, 2021 - Recreio Dos Ba...   61.0  1200.0   \n",
       "3   Rua Alberto de Faria - Leblon, Rio de Janeiro ...  307.0  1300.0   \n",
       "11    Rua Iza Carrijo, 80 - Anil, Rio de Janeiro - RJ  225.0  2820.0   \n",
       "14  Rua Piauí, 77 - Todos os Santos, Rio de Janeir...   50.0   526.0   \n",
       "19  Rua Dois de Fevereiro - Engenho De Dentro, Rio...   76.0   650.0   \n",
       "\n",
       "    banheiros  vagas_de_carro  quartos  suites      preco  \n",
       "0         2.0             1.0      2.0     1.0   510000.0  \n",
       "3         5.0             3.0      4.0     2.0  5800000.0  \n",
       "11        3.0             3.0      3.0     1.0   900000.0  \n",
       "14        2.0             1.0      2.0     1.0   230000.0  \n",
       "19        3.0             1.0      3.0     1.0   235000.0  "
      ]
     },
     "execution_count": 4,
     "metadata": {},
     "output_type": "execute_result"
    }
   ],
   "source": [
    "dataframe_imoveis_tratado = _transform_data_to_dataframe(lista_informacoes_imoveis)\n",
    "\n",
    "print(\"Dimensões antes da limpeza: \", dataframe_imoveis_tratado.shape)\n",
    "dataframe_imoveis_tratado = dataframe_imoveis_tratado.dropna()\n",
    "print(\"Dimensões após a limpeza: \", dataframe_imoveis_tratado.shape)\n",
    "dataframe_imoveis_tratado.head()"
   ]
  },
  {
   "cell_type": "code",
   "execution_count": 5,
   "metadata": {},
   "outputs": [],
   "source": [
    "dataframe_imoveis_tratado.to_parquet('dataframe_imoveis_a_vender_tratados.parquet', index=False)"
   ]
  }
 ],
 "metadata": {
  "kernelspec": {
   "display_name": "venv",
   "language": "python",
   "name": "python3"
  },
  "language_info": {
   "codemirror_mode": {
    "name": "ipython",
    "version": 3
   },
   "file_extension": ".py",
   "mimetype": "text/x-python",
   "name": "python",
   "nbconvert_exporter": "python",
   "pygments_lexer": "ipython3",
   "version": "3.13.0"
  }
 },
 "nbformat": 4,
 "nbformat_minor": 2
}
